{
 "cells": [
  {
   "cell_type": "markdown",
   "id": "5c7c4a7d-a6e1-4901-84a9-bd4f5eff2b3c",
   "metadata": {},
   "source": [
    "Code for generating all dataset for Thyroid Machine Learning Models. The code assumes that .env file in the root directory of project contains both the path of raw data in RAW_THYROID_PATH and destination folder exist and is in THYROID_PATH. The later cells use variables from previous cells (expecially from Unprocessed Probes Dataset)"
   ]
  },
  {
   "cell_type": "code",
   "execution_count": 1,
   "id": "7672b44b-10ae-413d-9dcd-6797965c69b1",
   "metadata": {},
   "outputs": [],
   "source": [
    "import sys\n",
    "import os\n",
    "from pathlib import Path\n",
    "import pandas as pd\n",
    "import numpy as np\n",
    "\n",
    "#Add the parent directory to access ENV variables\n",
    "sys.path.append(os.path.abspath(os.path.join(os.getcwd(), '..')))\n",
    "\n",
    "#Import of necessary paths ( Raw data and Dataset folder)\n",
    "from config import RAW_THYROID_PATH,THYROID_PATH"
   ]
  },
  {
   "cell_type": "markdown",
   "id": "476d39d9-c1c1-47bd-993b-f58c62562856",
   "metadata": {},
   "source": [
    "We import first the unfiltered datasets, fix the indexes and add the relevant columns for creating the ML datasets"
   ]
  },
  {
   "cell_type": "markdown",
   "id": "8a94e668-bfb0-4a0c-9fde-9767c19841b4",
   "metadata": {
    "tags": []
   },
   "source": [
    "# Unprocessed Probes Dataset - Cancer vs Normal"
   ]
  },
  {
   "cell_type": "markdown",
   "id": "d072455d-6c30-4b4d-a883-3582b6d6bd3a",
   "metadata": {},
   "source": [
    "We load the cvPTC, fvPTC and normal datasets. We fix the index and set the target variables, then we save the varibles (X) and outcome (y) numpy vector in a new file."
   ]
  },
  {
   "cell_type": "code",
   "execution_count": 2,
   "id": "c6c5c20e-e89a-42a8-9c8c-6e5d61e5fd1d",
   "metadata": {},
   "outputs": [],
   "source": [
    "cvPTC_path_unprocessed = Path(RAW_THYROID_PATH,'cvPTC_beta_values_unprocessed.txt')\n",
    "fvPTC_path_unprocessed = Path(RAW_THYROID_PATH,'fvPTC_beta_values_unprocessed.txt')\n",
    "norm_path_unprocessed = Path(RAW_THYROID_PATH,'norm_beta_values_unprocessed.txt')\n",
    "\n",
    "#Import dataset, fix index \n",
    "cvPTC = pd.read_csv(cvPTC_path_unprocessed, sep = '\\t', index_col=0)\n",
    "cvPTC.set_index('ProbeID',inplace=True)\n",
    "cvPTC = cvPTC.T\n",
    "cvPTC['cancer']=1\n",
    "cvPTC['follicolar']=0\n",
    "cvPTC['type']='classic'\n",
    "\n",
    "\n",
    "#Same for type 2 cancer\n",
    "fvPTC = pd.read_csv(fvPTC_path_unprocessed, sep = '\\t', index_col=0)\n",
    "fvPTC.set_index('ProbeID',inplace=True)\n",
    "fvPTC = fvPTC.T\n",
    "fvPTC['cancer']=1\n",
    "fvPTC['follicolar']=1\n",
    "fvPTC['type']='follicolar'\n",
    "\n",
    "\n",
    "#Same for normal\n",
    "normal = pd.read_csv(norm_path_unprocessed, sep = '\\t', index_col=0)\n",
    "normal.set_index('ProbeID',inplace=True)\n",
    "normal = normal.T\n",
    "normal['cancer']=0\n",
    "normal['follicolar']=0\n",
    "normal['type']='normal'\n",
    "\n",
    "all_probes = normal.columns\n",
    "num_all_probes = len(all_probes)\n",
    "\n",
    "dataset_full_unprocessed = pd.concat([cvPTC,fvPTC,normal])\n",
    "\n",
    "X = dataset_full_unprocessed.drop(['cancer','follicolar','type'],axis=1)\n",
    "X = X.to_numpy().astype(np.float32)\n",
    "y = dataset_full_unprocessed['cancer']\n",
    "y = y.to_numpy().astype(np.float32)\n",
    "feature_names = np.array(all_probes)\n",
    "UnfilteredPath = Path(THYROID_PATH,'UnfilteredCancerData.npy')\n",
    "\n",
    "with open(UnfilteredPath, 'wb') as f:\n",
    "    np.savez(f, X = X, y = y, feature_names = feature_names)"
   ]
  },
  {
   "cell_type": "markdown",
   "id": "fe1b84d9-c60e-47ac-95a0-9f900bb39b42",
   "metadata": {
    "tags": []
   },
   "source": [
    "# Filtered Probes Dataset - Cancer vs Normal"
   ]
  },
  {
   "cell_type": "markdown",
   "id": "8977821a-03de-431a-97e5-f953913009bc",
   "metadata": {},
   "source": [
    "In addition to the filtered dataset we create a zero-filled dataset where probes have been filtered to ensure dimensioal compatibility with the first layer of the neural net. We use the reindex function of pandas to add zero-filled columns where the probe has been filtered. Note that all_probes is the columns name of the normal unprocessed dataset in the unfiltered section."
   ]
  },
  {
   "cell_type": "code",
   "execution_count": 3,
   "id": "ebb82dcb-634d-4819-a438-77de9ffd86b1",
   "metadata": {
    "tags": []
   },
   "outputs": [],
   "source": [
    "cvPTC_path_processed = Path(RAW_THYROID_PATH,'cvPTC_beta_values_processed.txt')\n",
    "fvPTC_path_processed = Path(RAW_THYROID_PATH,'fvPTC_beta_values_processed.txt')\n",
    "norm_path_processed = Path(RAW_THYROID_PATH,'norm_beta_values_processed.txt')\n",
    "\n",
    "#Import cvcancer, fix index, transpose and add type column\n",
    "cvPTC = pd.read_csv(cvPTC_path_processed, sep = '\\t', index_col=0)\n",
    "cvPTC = cvPTC.T\n",
    "cvPTC['cancer']=1\n",
    "cvPTC['follicolar']=0\n",
    "cvPTC['type']='classic'\n",
    "\n",
    "#Same for type 2 cancer\n",
    "fvPTC = pd.read_csv(fvPTC_path_processed, sep = '\\t', index_col=0)\n",
    "fvPTC = fvPTC.T\n",
    "fvPTC['cancer']=1\n",
    "fvPTC['follicolar']=1\n",
    "fvPTC['type']='follicolar'\n",
    "\n",
    "#Same for normal\n",
    "normal = pd.read_csv(norm_path_processed, sep = '\\t', index_col=0)\n",
    "normal = normal.T\n",
    "normal['cancer']=0\n",
    "normal['follicolar']=0\n",
    "normal['type']='normal'\n",
    "filtered_probes = normal.columns\n",
    "num_filtered_probes = len(filtered_probes)\n",
    "\n",
    "\n",
    "dataset_full_filtered = pd.concat([cvPTC,fvPTC,normal])\n",
    "\n",
    "X = dataset_full_filtered.drop(['cancer','follicolar','type'],axis=1)\n",
    "X = X.to_numpy().astype(np.float32)\n",
    "y = dataset_full_filtered['cancer']\n",
    "y = y.to_numpy().astype(np.float32)\n",
    "feature_names = np.array(filtered_probes)\n",
    "\n",
    "zeroes_data = dataset_full_filtered.reindex(all_probes,axis=1)\n",
    "\n",
    "X_zeroes = zeroes_data.drop(['cancer','follicolar','type'],axis=1).to_numpy().astype(np.float32)\n",
    "\n",
    "UnfilteredPath = Path(THYROID_PATH,'FilteredCancerData.npy')\n",
    "with open(UnfilteredPath, 'wb') as f:\n",
    "    np.savez(f, X = X, y = y, X_nn = X_zeroes, feature_names = feature_names)"
   ]
  },
  {
   "cell_type": "markdown",
   "id": "173aa41f-849f-4ae5-9106-04d3f30fc00d",
   "metadata": {},
   "source": [
    "# Subtype Unprocessed Probes - cvPTC vs fvPTC"
   ]
  },
  {
   "cell_type": "markdown",
   "id": "71831538-ea3f-428e-856d-2cc8ccbab932",
   "metadata": {},
   "source": [
    "For the subtype task we drop all samples that are normal and we create a new dataset."
   ]
  },
  {
   "cell_type": "code",
   "execution_count": 4,
   "id": "64630f1f-d663-4c66-b8c3-7c3a60f40ce0",
   "metadata": {
    "tags": []
   },
   "outputs": [],
   "source": [
    "dataset_full_unfiltered_subtype = dataset_full_unprocessed[dataset_full_unprocessed['type']!='normal']\n",
    "\n",
    "X = dataset_full_unfiltered_subtype.drop(['cancer','follicolar','type'],axis=1)\n",
    "X = X.to_numpy().astype(np.float32)\n",
    "y = dataset_full_unfiltered_subtype['follicolar']\n",
    "y = y.to_numpy().astype(np.float32)\n",
    "feature_names = np.array(all_probes)\n",
    "\n",
    "FollicolarPath = Path(THYROID_PATH,'UnfilteredSubtypeData.npy')\n",
    "with open(FollicolarPath, 'wb') as f:\n",
    "    np.savez(f, X = X, y = y, feature_names = feature_names)"
   ]
  },
  {
   "cell_type": "markdown",
   "id": "e13cb1b8-821c-4126-aa0c-747e9ba20b41",
   "metadata": {},
   "source": [
    "# Subtype Filtered Probes - cvPTC vs fvPTC"
   ]
  },
  {
   "cell_type": "code",
   "execution_count": 5,
   "id": "135c5937-62b6-45dc-9e53-6c8050a12872",
   "metadata": {
    "tags": []
   },
   "outputs": [],
   "source": [
    "dataset_full_filtered_subtype = dataset_full_filtered[dataset_full_filtered['type']!='normal']\n",
    "\n",
    "X = dataset_full_filtered_subtype.drop(['cancer','follicolar','type'],axis=1)\n",
    "X = X.to_numpy().astype(np.float32)\n",
    "y = dataset_full_filtered_subtype['follicolar']\n",
    "y = y.to_numpy().astype(np.float32)\n",
    "feature_names = np.array(filtered_probes)\n",
    "\n",
    "zeroes_data = dataset_full_filtered_subtype.reindex(all_probes,axis=1)\n",
    "\n",
    "X_zeroes = zeroes_data.drop(['cancer','follicolar','type'],axis=1).to_numpy().astype(np.float32)\n",
    "\n",
    "FollicolarFilteredPath = Path(THYROID_PATH,'FilteredSubtypeData.npy')\n",
    "with open(FollicolarFilteredPath, 'wb') as f:\n",
    "    np.savez(f, X = X, y = y, X_nn = X_zeroes, feature_names = feature_names)"
   ]
  },
  {
   "cell_type": "markdown",
   "id": "ee7407eb-5ae0-4396-ab75-c6e36da3479d",
   "metadata": {},
   "source": [
    "# Differential Methylation - Cancer vs Normal"
   ]
  },
  {
   "cell_type": "code",
   "execution_count": 6,
   "id": "f61f6f77-0e49-48ae-9c30-5f13ecc5a7a9",
   "metadata": {
    "tags": []
   },
   "outputs": [],
   "source": [
    "#Load list of differentially methylated CpG islands \n",
    "diff_cpg_path = Path(RAW_THYROID_PATH,'dmCpGs_PTC_vs_Norm_logFC1_FDR05.txt')\n",
    "list_diff_cg = pd.read_csv(diff_cpg_path, sep='\\t',index_col=0)\n",
    "diff_cpg_index = list(list_diff_cg.index)\n",
    "\n",
    "#Select from full dataset\n",
    "dataset_full_diff = dataset_full_unprocessed[diff_cpg_index+['cancer','follicolar','type']]\n",
    "\n",
    "X = dataset_full_diff.drop(['cancer','follicolar','type'],axis=1)\n",
    "X = X.to_numpy().astype(np.float32)\n",
    "y = dataset_full_diff['cancer']\n",
    "y = y.to_numpy().astype(np.float32)\n",
    "\n",
    "feature_names = np.array(diff_cpg_index)\n",
    "\n",
    "X_zeroes = dataset_full_diff.reindex(all_probes,axis=1)\n",
    "X_zeroes = X_zeroes.drop(['cancer','follicolar','type'],axis=1).to_numpy().astype(np.float32)\n",
    "\n",
    "DifferentialCancerPath = Path(THYROID_PATH,'DifferentialCancerData.npy')\n",
    "with open(DifferentialCancerPath, 'wb') as f:\n",
    "    np.savez(f, X = X, y = y, X_nn = X_zeroes, feature_names = feature_names)"
   ]
  },
  {
   "cell_type": "markdown",
   "id": "b69d7dec-53be-4f1f-bc35-3ff3165cc5c4",
   "metadata": {},
   "source": [
    "# Differential Methylation - cvPTC vs fvPTC"
   ]
  },
  {
   "cell_type": "code",
   "execution_count": 7,
   "id": "9def617e-a334-4025-af3a-ea3d5a1c75bd",
   "metadata": {
    "tags": []
   },
   "outputs": [],
   "source": [
    "dataset_full_diff_subtype = dataset_full_diff[dataset_full_diff['type']!='normal']\n",
    "\n",
    "X = dataset_full_diff_subtype.drop(['cancer','follicolar','type'],axis=1)\n",
    "X = X.to_numpy().astype(np.float32)\n",
    "y = dataset_full_diff_subtype['follicolar']\n",
    "y = y.to_numpy().astype(np.float32)\n",
    "feature_names = np.array(diff_cpg_index)\n",
    "\n",
    "X_zeroes = dataset_full_diff_subtype.reindex(all_probes,axis=1)\n",
    "X_zeroes = X_zeroes.drop(['cancer','follicolar','type'],axis=1).to_numpy().astype(np.float32)\n",
    "\n",
    "DifferentialSubtypePath = Path(THYROID_PATH,'DifferentialSubtypeData.npy')\n",
    "with open(DifferentialSubtypePath, 'wb') as f:\n",
    "    np.savez(f, X = X, y=y, X_nn = X_zeroes,feature_names=feature_names)"
   ]
  }
 ],
 "metadata": {
  "kernelspec": {
   "display_name": "Python [conda env:tf_gpu]",
   "language": "python",
   "name": "conda-env-tf_gpu-py"
  },
  "language_info": {
   "codemirror_mode": {
    "name": "ipython",
    "version": 3
   },
   "file_extension": ".py",
   "mimetype": "text/x-python",
   "name": "python",
   "nbconvert_exporter": "python",
   "pygments_lexer": "ipython3",
   "version": "3.11.6"
  }
 },
 "nbformat": 4,
 "nbformat_minor": 5
}
