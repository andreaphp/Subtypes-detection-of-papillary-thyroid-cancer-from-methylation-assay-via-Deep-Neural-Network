{
 "cells": [
  {
   "cell_type": "code",
   "execution_count": 6,
   "id": "434912e5-99be-4fda-8637-798ae0650203",
   "metadata": {
    "tags": []
   },
   "outputs": [],
   "source": [
    "import os\n",
    "import sys\n",
    "from pathlib import Path\n",
    "\n",
    "import pandas as pd\n",
    "import numpy as np\n",
    "\n",
    "import tensorflow as tf\n",
    "from tensorflow import keras\n",
    "from scikeras.wrappers import KerasClassifier\n",
    "#Add the parent directory to access ENV variables\n",
    "sys.path.append(os.path.abspath(os.path.join(os.getcwd(), '..')))\n",
    "\n",
    "#Import of necessary paths ( GDC data Path and Dataset folder)\n",
    "from config import THYROID_PATH, MODEL_PATH, RESULTS_PATH"
   ]
  },
  {
   "cell_type": "code",
   "execution_count": 7,
   "id": "7d9dda48-ace0-4353-844b-eefe1a6a46f7",
   "metadata": {
    "tags": []
   },
   "outputs": [],
   "source": [
    "TestPath = Path(THYROID_PATH,'FinalData.npy')\n",
    "npzfiles = np.load(TestPath,allow_pickle=True)"
   ]
  },
  {
   "cell_type": "code",
   "execution_count": 26,
   "id": "b4478447-d1fb-4e0d-b47e-44104e6208ab",
   "metadata": {
    "tags": []
   },
   "outputs": [],
   "source": [
    "cancer_model = keras.models.load_model(os.path.join(MODEL_PATH,\"thyroid-cancer\"))\n",
    "subtype_model = keras.models.load_model(os.path.join(MODEL_PATH,\"thyroid-subtype\"))"
   ]
  },
  {
   "cell_type": "code",
   "execution_count": 48,
   "id": "2c3ad504-9edc-4f13-92bb-fb3e84d1e376",
   "metadata": {
    "tags": []
   },
   "outputs": [],
   "source": [
    "X_cancer_test = np.nan_to_num(npzfiles['X_cancer_test'])\n",
    "y_cancer_test = npzfiles['y_cancer_test']\n",
    "X_subtype_test = np.nan_to_num(npzfiles['X_subtype_test'])\n",
    "y_subtype_test = npzfiles['y_subtype_test']\n",
    "\n",
    "X_sample = X_subtype_test[3].reshape(1,-1)\n",
    "y_sample = y_subtype_test[3].reshape(1,-1)"
   ]
  },
  {
   "cell_type": "code",
   "execution_count": 51,
   "id": "0df94da6-d6d9-496a-aef4-f32cfc4d1cc2",
   "metadata": {
    "tags": []
   },
   "outputs": [
    {
     "data": {
      "text/plain": [
       "array([[1.]], dtype=float32)"
      ]
     },
     "execution_count": 51,
     "metadata": {},
     "output_type": "execute_result"
    }
   ],
   "source": [
    "y_sample"
   ]
  },
  {
   "cell_type": "code",
   "execution_count": 52,
   "id": "a17ec33f-5ba7-425d-b841-8ca25f8f0722",
   "metadata": {
    "tags": []
   },
   "outputs": [
    {
     "name": "stdout",
     "output_type": "stream",
     "text": [
      "1/1 [==============================] - 0s 149ms/step\n",
      "1/1 [==============================] - 0s 152ms/step\n",
      "fvPTC\n"
     ]
    }
   ],
   "source": [
    "def classify(sample):\n",
    "    cancer_prediction = cancer_model.predict(X_sample)\n",
    "    \n",
    "    if prediction[0][0] > 0.5:\n",
    "        subtype_prediction = subtype_model.predict(X_sample)\n",
    "        if subtype_prediction[0][0] > 0.5:\n",
    "            print(\"fvPTC\")\n",
    "        else:\n",
    "            print(\"cvPTC\")\n",
    "            \n",
    "    else:\n",
    "        print(\"normal\")\n",
    "    \n",
    "classify(X_sample)"
   ]
  }
 ],
 "metadata": {
  "kernelspec": {
   "display_name": "Python [conda env:tf_gpu]",
   "language": "python",
   "name": "conda-env-tf_gpu-py"
  },
  "language_info": {
   "codemirror_mode": {
    "name": "ipython",
    "version": 3
   },
   "file_extension": ".py",
   "mimetype": "text/x-python",
   "name": "python",
   "nbconvert_exporter": "python",
   "pygments_lexer": "ipython3",
   "version": "3.11.6"
  }
 },
 "nbformat": 4,
 "nbformat_minor": 5
}
