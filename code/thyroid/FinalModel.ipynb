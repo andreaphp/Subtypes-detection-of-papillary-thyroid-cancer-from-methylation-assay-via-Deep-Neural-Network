{
 "cells": [
  {
   "cell_type": "markdown",
   "id": "42f928fb-7805-4783-9c92-65e4bce7558f",
   "metadata": {
    "tags": []
   },
   "source": [
    "# Fine-Tuning the CNN on Cancer and Subtype\n",
    "\n",
    "\n",
    "\n"
   ]
  },
  {
   "cell_type": "code",
   "execution_count": 1,
   "id": "9b093c1f-8c9b-4192-b7e1-1b2e38c220fa",
   "metadata": {
    "tags": []
   },
   "outputs": [
    {
     "name": "stderr",
     "output_type": "stream",
     "text": [
      "2025-04-11 15:30:20.717354: I tensorflow/core/util/port.cc:111] oneDNN custom operations are on. You may see slightly different numerical results due to floating-point round-off errors from different computation orders. To turn them off, set the environment variable `TF_ENABLE_ONEDNN_OPTS=0`.\n",
      "2025-04-11 15:30:20.768920: E tensorflow/compiler/xla/stream_executor/cuda/cuda_dnn.cc:9342] Unable to register cuDNN factory: Attempting to register factory for plugin cuDNN when one has already been registered\n",
      "2025-04-11 15:30:20.768968: E tensorflow/compiler/xla/stream_executor/cuda/cuda_fft.cc:609] Unable to register cuFFT factory: Attempting to register factory for plugin cuFFT when one has already been registered\n",
      "2025-04-11 15:30:20.768978: E tensorflow/compiler/xla/stream_executor/cuda/cuda_blas.cc:1518] Unable to register cuBLAS factory: Attempting to register factory for plugin cuBLAS when one has already been registered\n",
      "2025-04-11 15:30:20.776997: I tensorflow/core/platform/cpu_feature_guard.cc:182] This TensorFlow binary is optimized to use available CPU instructions in performance-critical operations.\n",
      "To enable the following instructions: SSE4.1 SSE4.2 AVX AVX2 AVX512F AVX512_VNNI FMA, in other operations, rebuild TensorFlow with the appropriate compiler flags.\n"
     ]
    }
   ],
   "source": [
    "import os\n",
    "import sys\n",
    "from pathlib import Path\n",
    "\n",
    "import pandas as p\n",
    "import numpy as np\n",
    "\n",
    "import tensorflow as tf\n",
    "from tensorflow import keras\n",
    "#Add the parent directory to access ENV variables\n",
    "sys.path.append(os.path.abspath(os.path.join(os.getcwd(), '..')))\n",
    "\n",
    "#Import of necessary paths ( GDC data Path and Dataset folder)\n",
    "from config import THYROID_PATH, MODEL_PATH, RESULTS_PATH"
   ]
  },
  {
   "cell_type": "code",
   "execution_count": 2,
   "id": "398c15ad-3707-4e49-bb35-b907c3eda002",
   "metadata": {
    "tags": []
   },
   "outputs": [],
   "source": [
    "FinalPath = Path(THYROID_PATH,'FinalData.npy')\n",
    "npzfiles = np.load(FinalPath,allow_pickle=True)\n",
    "\n",
    "\n",
    "#output_folder = Path(RESULTS_PATH,'UnfilteredCancer/')\n",
    "#output_folder.mkdir(exist_ok=True) #Create output folder if it does not exist "
   ]
  },
  {
   "cell_type": "code",
   "execution_count": 3,
   "id": "186bf259-df00-4b8e-9c77-df6613a6f004",
   "metadata": {
    "tags": []
   },
   "outputs": [],
   "source": [
    "def get_uncompiled_model(reset_last_layer=False):\n",
    "    \n",
    "    model = keras.models.load_model(os.path.join(MODEL_PATH,'pan-cancer-leaky-relu'))\n",
    "    if(reset_last_layer):\n",
    "        output_follicolar= keras.layers.Dense(1, activation='sigmoid',name='output_follicolar')(model.layers[-2].output)\n",
    "        model = keras.models.Model(inputs=model.input, outputs = [output_follicolar])\n",
    "    return model\n",
    "\n",
    "def get_compiled_model(metrics=None,reset_last_layer=False):\n",
    "    \n",
    "    if(metrics is None):\n",
    "        metrics = [\n",
    "              keras.metrics.TruePositives(name='tp'),\n",
    "              keras.metrics.FalsePositives(name='fp'),\n",
    "              keras.metrics.TrueNegatives(name='tn'),\n",
    "              keras.metrics.FalseNegatives(name='fn'), \n",
    "              keras.metrics.BinaryAccuracy(name='accuracy'),\n",
    "              keras.metrics.Precision(name='precision'),\n",
    "              keras.metrics.Recall(name='recall'),\n",
    "              keras.metrics.AUC(name='auc'),\n",
    "              keras.metrics.AUC(name='prc', curve='PR'), # precision-recall curve\n",
    "        ]\n",
    "        \n",
    "    model = get_uncompiled_model(reset_last_layer)\n",
    "    model.compile(loss='binary_crossentropy',optimizer=keras.optimizers.Adam(3e-5),metrics=metrics)\n",
    "    \n",
    "    return model\n",
    "\n",
    "early_stopping_cb = tf.keras.callbacks.EarlyStopping(\n",
    "    monitor='prc', \n",
    "    verbose=1,\n",
    "    patience=10,\n",
    "    mode='max',\n",
    "    restore_best_weights=True)\n",
    "\n",
    "def make_or_restore_model(checkpoint_dir = \"ckpt\", reset_last_layer=False):\n",
    "    # Either restore the latest model, or create a fresh one\n",
    "    # if there is no checkpoint available.\n",
    "    if not os.path.exists(checkpoint_dir):\n",
    "        os.makedirs(checkpoint_dir)\n",
    "    checkpoints = [checkpoint_dir + \"/\" + name for name in os.listdir(checkpoint_dir)]\n",
    "    if checkpoints:\n",
    "        latest_checkpoint = max(checkpoints, key=os.path.getctime)\n",
    "        print(\"Restoring from\", latest_checkpoint)\n",
    "        return keras.models.load_model(latest_checkpoint)\n",
    "    print(\"Creating a new model\")\n",
    "    return get_compiled_model(reset_last_layer=reset_last_layer)"
   ]
  },
  {
   "cell_type": "code",
   "execution_count": 4,
   "id": "45935017-1a5f-4f93-9a73-06e76fc84160",
   "metadata": {},
   "outputs": [],
   "source": [
    "#Retrain Base Model for thyroid cancer classification"
   ]
  },
  {
   "cell_type": "code",
   "execution_count": 5,
   "id": "efd36940-883d-4ea9-b238-7a86fd2f7aba",
   "metadata": {},
   "outputs": [
    {
     "name": "stdout",
     "output_type": "stream",
     "text": [
      "Creating a new model\n"
     ]
    },
    {
     "name": "stderr",
     "output_type": "stream",
     "text": [
      "2025-04-11 15:30:32.351490: I tensorflow/compiler/xla/stream_executor/cuda/cuda_gpu_executor.cc:894] successful NUMA node read from SysFS had negative value (-1), but there must be at least one NUMA node, so returning NUMA node zero. See more at https://github.com/torvalds/linux/blob/v6.0/Documentation/ABI/testing/sysfs-bus-pci#L344-L355\n",
      "2025-04-11 15:30:32.395337: I tensorflow/compiler/xla/stream_executor/cuda/cuda_gpu_executor.cc:894] successful NUMA node read from SysFS had negative value (-1), but there must be at least one NUMA node, so returning NUMA node zero. See more at https://github.com/torvalds/linux/blob/v6.0/Documentation/ABI/testing/sysfs-bus-pci#L344-L355\n",
      "2025-04-11 15:30:32.395592: I tensorflow/compiler/xla/stream_executor/cuda/cuda_gpu_executor.cc:894] successful NUMA node read from SysFS had negative value (-1), but there must be at least one NUMA node, so returning NUMA node zero. See more at https://github.com/torvalds/linux/blob/v6.0/Documentation/ABI/testing/sysfs-bus-pci#L344-L355\n",
      "2025-04-11 15:30:32.397017: I tensorflow/compiler/xla/stream_executor/cuda/cuda_gpu_executor.cc:894] successful NUMA node read from SysFS had negative value (-1), but there must be at least one NUMA node, so returning NUMA node zero. See more at https://github.com/torvalds/linux/blob/v6.0/Documentation/ABI/testing/sysfs-bus-pci#L344-L355\n",
      "2025-04-11 15:30:32.397243: I tensorflow/compiler/xla/stream_executor/cuda/cuda_gpu_executor.cc:894] successful NUMA node read from SysFS had negative value (-1), but there must be at least one NUMA node, so returning NUMA node zero. See more at https://github.com/torvalds/linux/blob/v6.0/Documentation/ABI/testing/sysfs-bus-pci#L344-L355\n",
      "2025-04-11 15:30:32.397399: I tensorflow/compiler/xla/stream_executor/cuda/cuda_gpu_executor.cc:894] successful NUMA node read from SysFS had negative value (-1), but there must be at least one NUMA node, so returning NUMA node zero. See more at https://github.com/torvalds/linux/blob/v6.0/Documentation/ABI/testing/sysfs-bus-pci#L344-L355\n",
      "2025-04-11 15:30:32.791390: I tensorflow/compiler/xla/stream_executor/cuda/cuda_gpu_executor.cc:894] successful NUMA node read from SysFS had negative value (-1), but there must be at least one NUMA node, so returning NUMA node zero. See more at https://github.com/torvalds/linux/blob/v6.0/Documentation/ABI/testing/sysfs-bus-pci#L344-L355\n",
      "2025-04-11 15:30:32.791668: I tensorflow/compiler/xla/stream_executor/cuda/cuda_gpu_executor.cc:894] successful NUMA node read from SysFS had negative value (-1), but there must be at least one NUMA node, so returning NUMA node zero. See more at https://github.com/torvalds/linux/blob/v6.0/Documentation/ABI/testing/sysfs-bus-pci#L344-L355\n",
      "2025-04-11 15:30:32.791849: I tensorflow/compiler/xla/stream_executor/cuda/cuda_gpu_executor.cc:894] successful NUMA node read from SysFS had negative value (-1), but there must be at least one NUMA node, so returning NUMA node zero. See more at https://github.com/torvalds/linux/blob/v6.0/Documentation/ABI/testing/sysfs-bus-pci#L344-L355\n",
      "2025-04-11 15:30:32.791966: I tensorflow/core/common_runtime/gpu/gpu_device.cc:1886] Created device /job:localhost/replica:0/task:0/device:GPU:0 with 14946 MB memory:  -> device: 0, name: Quadro RTX 5000, pci bus id: 0000:01:00.0, compute capability: 7.5\n"
     ]
    },
    {
     "name": "stdout",
     "output_type": "stream",
     "text": [
      "Epoch 1/30\n"
     ]
    },
    {
     "name": "stderr",
     "output_type": "stream",
     "text": [
      "2025-04-11 15:30:45.382553: I tensorflow/compiler/xla/stream_executor/cuda/cuda_dnn.cc:442] Loaded cuDNN version 8800\n",
      "2025-04-11 15:30:48.744583: I tensorflow/compiler/xla/service/service.cc:168] XLA service 0x7efcdc292660 initialized for platform CUDA (this does not guarantee that XLA will be used). Devices:\n",
      "2025-04-11 15:30:48.744670: I tensorflow/compiler/xla/service/service.cc:176]   StreamExecutor device (0): Quadro RTX 5000, Compute Capability 7.5\n",
      "2025-04-11 15:30:48.750794: I tensorflow/compiler/mlir/tensorflow/utils/dump_mlir_util.cc:269] disabling MLIR crash reproducer, set env var `MLIR_CRASH_REPRODUCER_DIRECTORY` to enable.\n",
      "2025-04-11 15:30:48.888382: I ./tensorflow/compiler/jit/device_compiler.h:186] Compiled cluster using XLA!  This line is logged at most once for the lifetime of the process.\n"
     ]
    },
    {
     "name": "stdout",
     "output_type": "stream",
     "text": [
      "42/42 [==============================] - 42s 629ms/step - loss: nan - tp: 0.0000e+00 - fp: 0.0000e+00 - tn: 30.0000 - fn: 299.0000 - accuracy: 0.0912 - precision: 0.0000e+00 - recall: 0.0000e+00 - auc: 0.5000 - prc: 0.9088 - val_loss: nan - val_tp: 0.0000e+00 - val_fp: 0.0000e+00 - val_tn: 14.0000 - val_fn: 69.0000 - val_accuracy: 0.1687 - val_precision: 0.0000e+00 - val_recall: 0.0000e+00 - val_auc: 0.5000 - val_prc: 0.8313\n",
      "Epoch 2/30\n",
      "42/42 [==============================] - 24s 575ms/step - loss: nan - tp: 0.0000e+00 - fp: 0.0000e+00 - tn: 30.0000 - fn: 299.0000 - accuracy: 0.0912 - precision: 0.0000e+00 - recall: 0.0000e+00 - auc: 0.5000 - prc: 0.9088 - val_loss: nan - val_tp: 0.0000e+00 - val_fp: 0.0000e+00 - val_tn: 14.0000 - val_fn: 69.0000 - val_accuracy: 0.1687 - val_precision: 0.0000e+00 - val_recall: 0.0000e+00 - val_auc: 0.5000 - val_prc: 0.8313\n",
      "Epoch 3/30\n",
      "42/42 [==============================] - 24s 577ms/step - loss: nan - tp: 0.0000e+00 - fp: 0.0000e+00 - tn: 30.0000 - fn: 299.0000 - accuracy: 0.0912 - precision: 0.0000e+00 - recall: 0.0000e+00 - auc: 0.5000 - prc: 0.9088 - val_loss: nan - val_tp: 0.0000e+00 - val_fp: 0.0000e+00 - val_tn: 14.0000 - val_fn: 69.0000 - val_accuracy: 0.1687 - val_precision: 0.0000e+00 - val_recall: 0.0000e+00 - val_auc: 0.5000 - val_prc: 0.8313\n",
      "Epoch 4/30\n",
      "42/42 [==============================] - 24s 577ms/step - loss: nan - tp: 0.0000e+00 - fp: 0.0000e+00 - tn: 30.0000 - fn: 299.0000 - accuracy: 0.0912 - precision: 0.0000e+00 - recall: 0.0000e+00 - auc: 0.5000 - prc: 0.9088 - val_loss: nan - val_tp: 0.0000e+00 - val_fp: 0.0000e+00 - val_tn: 14.0000 - val_fn: 69.0000 - val_accuracy: 0.1687 - val_precision: 0.0000e+00 - val_recall: 0.0000e+00 - val_auc: 0.5000 - val_prc: 0.8313\n",
      "Epoch 5/30\n",
      "42/42 [==============================] - 24s 577ms/step - loss: nan - tp: 0.0000e+00 - fp: 0.0000e+00 - tn: 30.0000 - fn: 299.0000 - accuracy: 0.0912 - precision: 0.0000e+00 - recall: 0.0000e+00 - auc: 0.5000 - prc: 0.9088 - val_loss: nan - val_tp: 0.0000e+00 - val_fp: 0.0000e+00 - val_tn: 14.0000 - val_fn: 69.0000 - val_accuracy: 0.1687 - val_precision: 0.0000e+00 - val_recall: 0.0000e+00 - val_auc: 0.5000 - val_prc: 0.8313\n",
      "Epoch 6/30\n",
      "42/42 [==============================] - 24s 577ms/step - loss: nan - tp: 0.0000e+00 - fp: 0.0000e+00 - tn: 30.0000 - fn: 299.0000 - accuracy: 0.0912 - precision: 0.0000e+00 - recall: 0.0000e+00 - auc: 0.5000 - prc: 0.9088 - val_loss: nan - val_tp: 0.0000e+00 - val_fp: 0.0000e+00 - val_tn: 14.0000 - val_fn: 69.0000 - val_accuracy: 0.1687 - val_precision: 0.0000e+00 - val_recall: 0.0000e+00 - val_auc: 0.5000 - val_prc: 0.8313\n",
      "Epoch 7/30\n",
      "42/42 [==============================] - 24s 577ms/step - loss: nan - tp: 0.0000e+00 - fp: 0.0000e+00 - tn: 30.0000 - fn: 299.0000 - accuracy: 0.0912 - precision: 0.0000e+00 - recall: 0.0000e+00 - auc: 0.5000 - prc: 0.9088 - val_loss: nan - val_tp: 0.0000e+00 - val_fp: 0.0000e+00 - val_tn: 14.0000 - val_fn: 69.0000 - val_accuracy: 0.1687 - val_precision: 0.0000e+00 - val_recall: 0.0000e+00 - val_auc: 0.5000 - val_prc: 0.8313\n",
      "Epoch 8/30\n",
      "42/42 [==============================] - 24s 576ms/step - loss: nan - tp: 0.0000e+00 - fp: 0.0000e+00 - tn: 30.0000 - fn: 299.0000 - accuracy: 0.0912 - precision: 0.0000e+00 - recall: 0.0000e+00 - auc: 0.5000 - prc: 0.9088 - val_loss: nan - val_tp: 0.0000e+00 - val_fp: 0.0000e+00 - val_tn: 14.0000 - val_fn: 69.0000 - val_accuracy: 0.1687 - val_precision: 0.0000e+00 - val_recall: 0.0000e+00 - val_auc: 0.5000 - val_prc: 0.8313\n",
      "Epoch 9/30\n",
      "42/42 [==============================] - 24s 576ms/step - loss: nan - tp: 0.0000e+00 - fp: 0.0000e+00 - tn: 30.0000 - fn: 299.0000 - accuracy: 0.0912 - precision: 0.0000e+00 - recall: 0.0000e+00 - auc: 0.5000 - prc: 0.9088 - val_loss: nan - val_tp: 0.0000e+00 - val_fp: 0.0000e+00 - val_tn: 14.0000 - val_fn: 69.0000 - val_accuracy: 0.1687 - val_precision: 0.0000e+00 - val_recall: 0.0000e+00 - val_auc: 0.5000 - val_prc: 0.8313\n",
      "Epoch 10/30\n",
      "42/42 [==============================] - 24s 576ms/step - loss: nan - tp: 0.0000e+00 - fp: 0.0000e+00 - tn: 30.0000 - fn: 299.0000 - accuracy: 0.0912 - precision: 0.0000e+00 - recall: 0.0000e+00 - auc: 0.5000 - prc: 0.9088 - val_loss: nan - val_tp: 0.0000e+00 - val_fp: 0.0000e+00 - val_tn: 14.0000 - val_fn: 69.0000 - val_accuracy: 0.1687 - val_precision: 0.0000e+00 - val_recall: 0.0000e+00 - val_auc: 0.5000 - val_prc: 0.8313\n",
      "Epoch 11/30\n",
      "42/42 [==============================] - ETA: 0s - loss: nan - tp: 0.0000e+00 - fp: 0.0000e+00 - tn: 30.0000 - fn: 299.0000 - accuracy: 0.0912 - precision: 0.0000e+00 - recall: 0.0000e+00 - auc: 0.5000 - prc: 0.9088Restoring model weights from the end of the best epoch: 1.\n",
      "42/42 [==============================] - 24s 577ms/step - loss: nan - tp: 0.0000e+00 - fp: 0.0000e+00 - tn: 30.0000 - fn: 299.0000 - accuracy: 0.0912 - precision: 0.0000e+00 - recall: 0.0000e+00 - auc: 0.5000 - prc: 0.9088 - val_loss: nan - val_tp: 0.0000e+00 - val_fp: 0.0000e+00 - val_tn: 14.0000 - val_fn: 69.0000 - val_accuracy: 0.1687 - val_precision: 0.0000e+00 - val_recall: 0.0000e+00 - val_auc: 0.5000 - val_prc: 0.8313\n",
      "Epoch 11: early stopping\n"
     ]
    },
    {
     "ename": "NameError",
     "evalue": "name 'pd' is not defined",
     "output_type": "error",
     "traceback": [
      "\u001b[0;31m---------------------------------------------------------------------------\u001b[0m",
      "\u001b[0;31mNameError\u001b[0m                                 Traceback (most recent call last)",
      "Cell \u001b[0;32mIn[5], line 8\u001b[0m\n\u001b[1;32m      4\u001b[0m model \u001b[38;5;241m=\u001b[39m make_or_restore_model(\u001b[38;5;124m'\u001b[39m\u001b[38;5;124mckpt-thyroid-cancer\u001b[39m\u001b[38;5;124m'\u001b[39m)\n\u001b[1;32m      6\u001b[0m cancer_history \u001b[38;5;241m=\u001b[39m model\u001b[38;5;241m.\u001b[39mfit(X_train,y_train, batch_size\u001b[38;5;241m=\u001b[39m\u001b[38;5;241m8\u001b[39m, epochs\u001b[38;5;241m=\u001b[39m\u001b[38;5;241m30\u001b[39m, callbacks\u001b[38;5;241m=\u001b[39mearly_stopping_cb, validation_split\u001b[38;5;241m=\u001b[39m\u001b[38;5;241m0.2\u001b[39m, shuffle\u001b[38;5;241m=\u001b[39m\u001b[38;5;28;01mTrue\u001b[39;00m)\n\u001b[0;32m----> 8\u001b[0m cancer_df \u001b[38;5;241m=\u001b[39m \u001b[43mpd\u001b[49m\u001b[38;5;241m.\u001b[39mDataFrame(cancer_history\u001b[38;5;241m.\u001b[39mhistory)\n\u001b[1;32m      9\u001b[0m cancer_df\u001b[38;5;241m.\u001b[39mto_csv(\u001b[38;5;124m\"\u001b[39m\u001b[38;5;124mfit_history/thyroid-cancer.csv\u001b[39m\u001b[38;5;124m\"\u001b[39m)\n\u001b[1;32m     10\u001b[0m model\u001b[38;5;241m.\u001b[39msave(os\u001b[38;5;241m.\u001b[39mpath\u001b[38;5;241m.\u001b[39mjoin(MODEL_PATH,\u001b[38;5;124m\"\u001b[39m\u001b[38;5;124mthyroid-cancer\u001b[39m\u001b[38;5;124m\"\u001b[39m))\n",
      "\u001b[0;31mNameError\u001b[0m: name 'pd' is not defined"
     ]
    }
   ],
   "source": [
    "X_train = np.nan_to_num(npzfiles['X_cancer_train'])\n",
    "y_train = npzfiles['y_cancer_train']\n",
    "\n",
    ")\n",
    "\n",
    "model = make_or_restore_model('ckpt-thyroid-cancer')\n",
    "\n",
    "cancer_history = model.fit(X_train,y_train, batch_size=8, epochs=30, callbacks=early_stopping_cb, validation_split=0.2, shuffle=True)\n",
    "\n",
    "cancer_df = pd.DataFrame(cancer_history.history)\n",
    "cancer_df.to_csv(\"fit_history/thyroid-cancer.csv\")\n",
    "model.save(os.path.join(MODEL_PATH,\"thyroid-cancer\"))"
   ]
  },
  {
   "cell_type": "code",
   "execution_count": null,
   "id": "d5c32e28-2c39-4258-a409-91a6e626f8a3",
   "metadata": {},
   "outputs": [],
   "source": [
    "X_train = npzfiles['X_subtype_train']\n",
    "y_train = npzfiles['y_subtype_train']\n",
    "\n",
    "model = make_or_restore_model('ckpt-thyroid-subtype', reset_last_layer=True)\n",
    "\n",
    "subtype_history = model.fit(X_train,y_train, batch_size=8, epochs=30, callbacks=early_stopping_cb, validation_split=0.2, shuffle=True)\n",
    "subtype_df = pd.DataFrame(subtype_history.history)\n",
    "subtype_df.to_csv(os.path.join('fit_history','thyrois-subtype.csv'))\n",
    "\n",
    "model.save(os.path.join(MODEL_PATH,\"thyroid-subtype\"))"
   ]
  },
  {
   "cell_type": "markdown",
   "id": "6ebf041a-1e1b-4cca-95ce-6f7f07c9a657",
   "metadata": {},
   "source": [
    "from sklearn.model_selection import train_test_split\n",
    "X_train, X_test, y_train,y_test = train_test_split(X, y, test_size=0.2,shuffle=True, stratify=y)\n",
    "\n",
    "from collections import Counter\n",
    "X_train_fill = SimpleImputer(strategy='constant').fit_transform(X_train,y_train)\n",
    "X_train_over,y_train_over = over.fit_resample(X_train_fill,y_train)\n",
    "X_train_under,y_train_under = under.fit_resample(X_train_over,y_train_over)\n",
    "\n",
    "X_test_fill = SimpleImputer(strategy='constant').fit_transform(X_test,y_test)\n",
    "X_test_over,y_test_over = over.fit_resample(X_test_fill,y_test)\n",
    "X_test_under,y_test_under = under.fit_resample(X_test_over,y_test_over)\n",
    "\n",
    "print(Counter(y_train))\n",
    "print(Counter(y_train_under))\n",
    "\n",
    "print(Counter(y_test))\n",
    "print(Counter(y_test_under))\n",
    "\n"
   ]
  }
 ],
 "metadata": {
  "kernelspec": {
   "display_name": "Python [conda env:tf_gpu]",
   "language": "python",
   "name": "conda-env-tf_gpu-py"
  },
  "language_info": {
   "codemirror_mode": {
    "name": "ipython",
    "version": 3
   },
   "file_extension": ".py",
   "mimetype": "text/x-python",
   "name": "python",
   "nbconvert_exporter": "python",
   "pygments_lexer": "ipython3",
   "version": "3.11.6"
  }
 },
 "nbformat": 4,
 "nbformat_minor": 5
}
