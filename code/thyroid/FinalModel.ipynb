{
 "cells": [
  {
   "cell_type": "markdown",
   "id": "42f928fb-7805-4783-9c92-65e4bce7558f",
   "metadata": {
    "tags": []
   },
   "source": [
    "# Fine-Tuning the CNN on Cancer and Subtype\n",
    "\n",
    "\n",
    "\n"
   ]
  },
  {
   "cell_type": "code",
   "execution_count": 1,
   "id": "9b093c1f-8c9b-4192-b7e1-1b2e38c220fa",
   "metadata": {
    "tags": []
   },
   "outputs": [
    {
     "name": "stderr",
     "output_type": "stream",
     "text": [
      "2025-04-15 10:12:27.405751: I tensorflow/core/util/port.cc:111] oneDNN custom operations are on. You may see slightly different numerical results due to floating-point round-off errors from different computation orders. To turn them off, set the environment variable `TF_ENABLE_ONEDNN_OPTS=0`.\n",
      "2025-04-15 10:12:27.476939: E tensorflow/compiler/xla/stream_executor/cuda/cuda_dnn.cc:9342] Unable to register cuDNN factory: Attempting to register factory for plugin cuDNN when one has already been registered\n",
      "2025-04-15 10:12:27.477003: E tensorflow/compiler/xla/stream_executor/cuda/cuda_fft.cc:609] Unable to register cuFFT factory: Attempting to register factory for plugin cuFFT when one has already been registered\n",
      "2025-04-15 10:12:27.477014: E tensorflow/compiler/xla/stream_executor/cuda/cuda_blas.cc:1518] Unable to register cuBLAS factory: Attempting to register factory for plugin cuBLAS when one has already been registered\n",
      "2025-04-15 10:12:27.488198: I tensorflow/core/platform/cpu_feature_guard.cc:182] This TensorFlow binary is optimized to use available CPU instructions in performance-critical operations.\n",
      "To enable the following instructions: SSE4.1 SSE4.2 AVX AVX2 AVX512F AVX512_VNNI FMA, in other operations, rebuild TensorFlow with the appropriate compiler flags.\n"
     ]
    }
   ],
   "source": [
    "import os\n",
    "import sys\n",
    "from pathlib import Path\n",
    "\n",
    "import pandas as pd\n",
    "import numpy as np\n",
    "\n",
    "import tensorflow as tf\n",
    "from tensorflow import keras\n",
    "#Add the parent directory to access ENV variables\n",
    "sys.path.append(os.path.abspath(os.path.join(os.getcwd(), '..')))\n",
    "\n",
    "#Import of necessary paths ( GDC data Path and Dataset folder)\n",
    "from config import THYROID_PATH, MODEL_PATH, RESULTS_PATH"
   ]
  },
  {
   "cell_type": "code",
   "execution_count": 2,
   "id": "398c15ad-3707-4e49-bb35-b907c3eda002",
   "metadata": {
    "tags": []
   },
   "outputs": [],
   "source": [
    "FinalPath = Path(THYROID_PATH,'FinalData.npy')\n",
    "npzfiles = np.load(FinalPath,allow_pickle=True)\n",
    "\n",
    "\n",
    "#output_folder = Path(RESULTS_PATH,'UnfilteredCancer/')\n",
    "#output_folder.mkdir(exist_ok=True) #Create output folder if it does not exist "
   ]
  },
  {
   "cell_type": "code",
   "execution_count": 3,
   "id": "186bf259-df00-4b8e-9c77-df6613a6f004",
   "metadata": {
    "tags": []
   },
   "outputs": [],
   "source": [
    "def get_uncompiled_model(reset_last_layer=False):\n",
    "    \n",
    "    model = keras.models.load_model(os.path.join(MODEL_PATH,'pan-cancer-leaky-relu'))\n",
    "    if(reset_last_layer):\n",
    "        output_follicolar= keras.layers.Dense(1, activation='sigmoid',name='output_follicolar')(model.layers[-2].output)\n",
    "        model = keras.models.Model(inputs=model.input, outputs = [output_follicolar])\n",
    "    return model\n",
    "\n",
    "def get_compiled_model(metrics=None,reset_last_layer=False):\n",
    "    \n",
    "    if(metrics is None):\n",
    "        metrics = [\n",
    "              keras.metrics.TruePositives(name='tp'),\n",
    "              keras.metrics.FalsePositives(name='fp'),\n",
    "              keras.metrics.TrueNegatives(name='tn'),\n",
    "              keras.metrics.FalseNegatives(name='fn'), \n",
    "              keras.metrics.BinaryAccuracy(name='accuracy'),\n",
    "              keras.metrics.Precision(name='precision'),\n",
    "              keras.metrics.Recall(name='recall'),\n",
    "              keras.metrics.AUC(name='auc'),\n",
    "              keras.metrics.AUC(name='prc', curve='PR'), # precision-recall curve\n",
    "        ]\n",
    "        \n",
    "    model = get_uncompiled_model(reset_last_layer)\n",
    "    model.compile(loss='binary_crossentropy',optimizer=keras.optimizers.Adam(3e-5),metrics=metrics)\n",
    "    \n",
    "    return model\n",
    "\n",
    "early_stopping_cb = tf.keras.callbacks.EarlyStopping(\n",
    "    monitor='prc', \n",
    "    verbose=1,\n",
    "    patience=10,\n",
    "    mode='max',\n",
    "    restore_best_weights=True)\n",
    "\n",
    "def make_or_restore_model(checkpoint_dir = \"ckpt\", reset_last_layer=False):\n",
    "    # Either restore the latest model, or create a fresh one\n",
    "    # if there is no checkpoint available.\n",
    "    if not os.path.exists(checkpoint_dir):\n",
    "        os.makedirs(checkpoint_dir)\n",
    "    checkpoints = [checkpoint_dir + \"/\" + name for name in os.listdir(checkpoint_dir)]\n",
    "    if checkpoints:\n",
    "        latest_checkpoint = max(checkpoints, key=os.path.getctime)\n",
    "        print(\"Restoring from\", latest_checkpoint)\n",
    "        return keras.models.load_model(latest_checkpoint)\n",
    "    print(\"Creating a new model\")\n",
    "    return get_compiled_model(reset_last_layer=reset_last_layer)"
   ]
  },
  {
   "cell_type": "code",
   "execution_count": 4,
   "id": "45935017-1a5f-4f93-9a73-06e76fc84160",
   "metadata": {},
   "outputs": [],
   "source": [
    "#Retrain Base Model for thyroid cancer classification"
   ]
  },
  {
   "cell_type": "code",
   "execution_count": 5,
   "id": "efd36940-883d-4ea9-b238-7a86fd2f7aba",
   "metadata": {},
   "outputs": [
    {
     "name": "stdout",
     "output_type": "stream",
     "text": [
      "Creating a new model\n",
      "Epoch 1/30\n",
      "42/42 [==============================] - 241s 6s/step - loss: 3.0700 - tp: 264.0000 - fp: 2.0000 - tn: 28.0000 - fn: 35.0000 - accuracy: 0.8875 - precision: 0.9925 - recall: 0.8829 - auc: 0.9137 - prc: 0.9875 - val_loss: 1.1994 - val_tp: 67.0000 - val_fp: 4.0000 - val_tn: 10.0000 - val_fn: 2.0000 - val_accuracy: 0.9277 - val_precision: 0.9437 - val_recall: 0.9710 - val_auc: 0.9110 - val_prc: 0.9681\n",
      "Epoch 2/30\n",
      "42/42 [==============================] - 228s 5s/step - loss: 2.0774 - tp: 290.0000 - fp: 10.0000 - tn: 20.0000 - fn: 9.0000 - accuracy: 0.9422 - precision: 0.9667 - recall: 0.9699 - auc: 0.8172 - prc: 0.9653 - val_loss: 1.3311 - val_tp: 67.0000 - val_fp: 4.0000 - val_tn: 10.0000 - val_fn: 2.0000 - val_accuracy: 0.9277 - val_precision: 0.9437 - val_recall: 0.9710 - val_auc: 0.8478 - val_prc: 0.9428\n",
      "Epoch 3/30\n",
      "42/42 [==============================] - 226s 5s/step - loss: 1.2942 - tp: 287.0000 - fp: 9.0000 - tn: 21.0000 - fn: 12.0000 - accuracy: 0.9362 - precision: 0.9696 - recall: 0.9599 - auc: 0.8787 - prc: 0.9778 - val_loss: 1.3912 - val_tp: 68.0000 - val_fp: 4.0000 - val_tn: 10.0000 - val_fn: 1.0000 - val_accuracy: 0.9398 - val_precision: 0.9444 - val_recall: 0.9855 - val_auc: 0.8468 - val_prc: 0.9427\n",
      "Epoch 4/30\n",
      "42/42 [==============================] - 228s 5s/step - loss: 1.5839 - tp: 287.0000 - fp: 8.0000 - tn: 22.0000 - fn: 12.0000 - accuracy: 0.9392 - precision: 0.9729 - recall: 0.9599 - auc: 0.8502 - prc: 0.9718 - val_loss: 1.3221 - val_tp: 68.0000 - val_fp: 4.0000 - val_tn: 10.0000 - val_fn: 1.0000 - val_accuracy: 0.9398 - val_precision: 0.9444 - val_recall: 0.9855 - val_auc: 0.8473 - val_prc: 0.9427\n",
      "Epoch 7/30\n",
      "42/42 [==============================] - 228s 5s/step - loss: 2.1673 - tp: 291.0000 - fp: 10.0000 - tn: 20.0000 - fn: 8.0000 - accuracy: 0.9453 - precision: 0.9668 - recall: 0.9732 - auc: 0.8314 - prc: 0.9683 - val_loss: 1.1140 - val_tp: 67.0000 - val_fp: 2.0000 - val_tn: 12.0000 - val_fn: 2.0000 - val_accuracy: 0.9518 - val_precision: 0.9710 - val_recall: 0.9710 - val_auc: 0.9120 - val_prc: 0.9685\n",
      "Epoch 8/30\n",
      "42/42 [==============================] - 227s 5s/step - loss: 1.3975 - tp: 288.0000 - fp: 9.0000 - tn: 21.0000 - fn: 11.0000 - accuracy: 0.9392 - precision: 0.9697 - recall: 0.9632 - auc: 0.8629 - prc: 0.9745 - val_loss: 1.3069 - val_tp: 68.0000 - val_fp: 4.0000 - val_tn: 10.0000 - val_fn: 1.0000 - val_accuracy: 0.9398 - val_precision: 0.9444 - val_recall: 0.9855 - val_auc: 0.8473 - val_prc: 0.9427\n",
      "Epoch 9/30\n",
      "42/42 [==============================] - 227s 5s/step - loss: 1.0562 - tp: 291.0000 - fp: 8.0000 - tn: 22.0000 - fn: 8.0000 - accuracy: 0.9514 - precision: 0.9732 - recall: 0.9732 - auc: 0.8854 - prc: 0.9786 - val_loss: 1.4889 - val_tp: 68.0000 - val_fp: 6.0000 - val_tn: 8.0000 - val_fn: 1.0000 - val_accuracy: 0.9157 - val_precision: 0.9189 - val_recall: 0.9855 - val_auc: 0.8483 - val_prc: 0.9433\n",
      "Epoch 10/30\n",
      "42/42 [==============================] - 228s 5s/step - loss: 1.4566 - tp: 295.0000 - fp: 10.0000 - tn: 20.0000 - fn: 4.0000 - accuracy: 0.9574 - precision: 0.9672 - recall: 0.9866 - auc: 0.8595 - prc: 0.9731 - val_loss: 1.0573 - val_tp: 67.0000 - val_fp: 4.0000 - val_tn: 10.0000 - val_fn: 2.0000 - val_accuracy: 0.9277 - val_precision: 0.9437 - val_recall: 0.9710 - val_auc: 0.9172 - val_prc: 0.9694\n",
      "Epoch 11/30\n",
      "42/42 [==============================] - ETA: 0s - loss: 1.5936 - tp: 293.0000 - fp: 8.0000 - tn: 22.0000 - fn: 6.0000 - accuracy: 0.9574 - precision: 0.9734 - recall: 0.9799 - auc: 0.8579 - prc: 0.9727Restoring model weights from the end of the best epoch: 1.\n",
      "42/42 [==============================] - 227s 5s/step - loss: 1.5936 - tp: 293.0000 - fp: 8.0000 - tn: 22.0000 - fn: 6.0000 - accuracy: 0.9574 - precision: 0.9734 - recall: 0.9799 - auc: 0.8579 - prc: 0.9727 - val_loss: 1.0017 - val_tp: 67.0000 - val_fp: 2.0000 - val_tn: 12.0000 - val_fn: 2.0000 - val_accuracy: 0.9518 - val_precision: 0.9710 - val_recall: 0.9710 - val_auc: 0.9120 - val_prc: 0.9685\n",
      "Epoch 11: early stopping\n",
      "INFO:tensorflow:Assets written to: /home/jovyan/NAS/Subtypes-detection-of-papillary-thyroid-cancer-from-methylation-assay-via-Deep-Neural-Network/Models/thyroid-cancer/assets\n"
     ]
    },
    {
     "name": "stderr",
     "output_type": "stream",
     "text": [
      "INFO:tensorflow:Assets written to: /home/jovyan/NAS/Subtypes-detection-of-papillary-thyroid-cancer-from-methylation-assay-via-Deep-Neural-Network/Models/thyroid-cancer/assets\n"
     ]
    }
   ],
   "source": [
    "X_train = np.nan_to_num(npzfiles['X_cancer_train'])\n",
    "y_train = npzfiles['y_cancer_train']\n",
    "\n",
    "model = make_or_restore_model('ckpt-thyroid-cancer')\n",
    "\n",
    "cancer_history = model.fit(X_train,y_train, batch_size=8, epochs=30, callbacks=early_stopping_cb, validation_split=0.2, shuffle=True)\n",
    "\n",
    "cancer_df = pd.DataFrame(cancer_history.history)\n",
    "cancer_df.to_csv(\"fit_history/thyroid-cancer.csv\")\n",
    "model.save(os.path.join(MODEL_PATH,\"thyroid-cancer\"))"
   ]
  },
  {
   "cell_type": "code",
   "execution_count": 6,
   "id": "d5c32e28-2c39-4258-a409-91a6e626f8a3",
   "metadata": {},
   "outputs": [
    {
     "name": "stdout",
     "output_type": "stream",
     "text": [
      "Creating a new model\n",
      "Epoch 1/30\n",
      "37/37 [==============================] - 212s 6s/step - loss: 0.6178 - tp: 9.0000 - fp: 22.0000 - tn: 208.0000 - fn: 55.0000 - accuracy: 0.7381 - precision: 0.2903 - recall: 0.1406 - auc: 0.6140 - prc: 0.2802 - val_loss: 0.5864 - val_tp: 15.0000 - val_fp: 16.0000 - val_tn: 41.0000 - val_fn: 2.0000 - val_accuracy: 0.7568 - val_precision: 0.4839 - val_recall: 0.8824 - val_auc: 0.8535 - val_prc: 0.6023\n",
      "Epoch 2/30\n",
      "37/37 [==============================] - 204s 6s/step - loss: 0.5426 - tp: 14.0000 - fp: 23.0000 - tn: 207.0000 - fn: 50.0000 - accuracy: 0.7517 - precision: 0.3784 - recall: 0.2188 - auc: 0.6926 - prc: 0.3654 - val_loss: 0.4373 - val_tp: 10.0000 - val_fp: 5.0000 - val_tn: 52.0000 - val_fn: 7.0000 - val_accuracy: 0.8378 - val_precision: 0.6667 - val_recall: 0.5882 - val_auc: 0.8488 - val_prc: 0.5851\n",
      "Epoch 3/30\n",
      "37/37 [==============================] - 202s 5s/step - loss: 0.3939 - tp: 23.0000 - fp: 9.0000 - tn: 221.0000 - fn: 41.0000 - accuracy: 0.8299 - precision: 0.7188 - recall: 0.3594 - auc: 0.8343 - prc: 0.6446 - val_loss: 0.5342 - val_tp: 11.0000 - val_fp: 10.0000 - val_tn: 47.0000 - val_fn: 6.0000 - val_accuracy: 0.7838 - val_precision: 0.5238 - val_recall: 0.6471 - val_auc: 0.8163 - val_prc: 0.4570\n",
      "Epoch 4/30\n",
      "37/37 [==============================] - 204s 6s/step - loss: 0.4826 - tp: 19.0000 - fp: 22.0000 - tn: 208.0000 - fn: 45.0000 - accuracy: 0.7721 - precision: 0.4634 - recall: 0.2969 - auc: 0.7551 - prc: 0.4954 - val_loss: 0.4782 - val_tp: 0.0000e+00 - val_fp: 0.0000e+00 - val_tn: 57.0000 - val_fn: 17.0000 - val_accuracy: 0.7703 - val_precision: 0.0000e+00 - val_recall: 0.0000e+00 - val_auc: 0.8297 - val_prc: 0.5702\n",
      "Epoch 5/30\n",
      "37/37 [==============================] - 203s 5s/step - loss: 0.3789 - tp: 30.0000 - fp: 14.0000 - tn: 216.0000 - fn: 34.0000 - accuracy: 0.8367 - precision: 0.6818 - recall: 0.4688 - auc: 0.8589 - prc: 0.6249 - val_loss: 0.6357 - val_tp: 0.0000e+00 - val_fp: 0.0000e+00 - val_tn: 57.0000 - val_fn: 17.0000 - val_accuracy: 0.7703 - val_precision: 0.0000e+00 - val_recall: 0.0000e+00 - val_auc: 0.8411 - val_prc: 0.5733\n",
      "Epoch 6/30\n",
      "37/37 [==============================] - 202s 5s/step - loss: 0.3113 - tp: 36.0000 - fp: 8.0000 - tn: 222.0000 - fn: 28.0000 - accuracy: 0.8776 - precision: 0.8182 - recall: 0.5625 - auc: 0.9138 - prc: 0.7561 - val_loss: 0.4556 - val_tp: 4.0000 - val_fp: 3.0000 - val_tn: 54.0000 - val_fn: 13.0000 - val_accuracy: 0.7838 - val_precision: 0.5714 - val_recall: 0.2353 - val_auc: 0.8277 - val_prc: 0.4783\n",
      "Epoch 7/30\n",
      "37/37 [==============================] - 203s 5s/step - loss: 0.2713 - tp: 38.0000 - fp: 12.0000 - tn: 218.0000 - fn: 26.0000 - accuracy: 0.8707 - precision: 0.7600 - recall: 0.5938 - auc: 0.9353 - prc: 0.8093 - val_loss: 0.4363 - val_tp: 5.0000 - val_fp: 4.0000 - val_tn: 53.0000 - val_fn: 12.0000 - val_accuracy: 0.7838 - val_precision: 0.5556 - val_recall: 0.2941 - val_auc: 0.8225 - val_prc: 0.4772\n",
      "Epoch 8/30\n",
      "37/37 [==============================] - 202s 5s/step - loss: 0.2509 - tp: 35.0000 - fp: 6.0000 - tn: 224.0000 - fn: 29.0000 - accuracy: 0.8810 - precision: 0.8537 - recall: 0.5469 - auc: 0.9470 - prc: 0.8545 - val_loss: 0.4343 - val_tp: 7.0000 - val_fp: 5.0000 - val_tn: 52.0000 - val_fn: 10.0000 - val_accuracy: 0.7973 - val_precision: 0.5833 - val_recall: 0.4118 - val_auc: 0.8271 - val_prc: 0.4952\n",
      "Epoch 9/30\n",
      "37/37 [==============================] - 202s 5s/step - loss: 0.2684 - tp: 43.0000 - fp: 12.0000 - tn: 218.0000 - fn: 21.0000 - accuracy: 0.8878 - precision: 0.7818 - recall: 0.6719 - auc: 0.9298 - prc: 0.8270 - val_loss: 0.4636 - val_tp: 4.0000 - val_fp: 4.0000 - val_tn: 53.0000 - val_fn: 13.0000 - val_accuracy: 0.7703 - val_precision: 0.5000 - val_recall: 0.2353 - val_auc: 0.8333 - val_prc: 0.5120\n",
      "Epoch 10/30\n",
      "37/37 [==============================] - 203s 5s/step - loss: 0.2585 - tp: 41.0000 - fp: 6.0000 - tn: 224.0000 - fn: 23.0000 - accuracy: 0.9014 - precision: 0.8723 - recall: 0.6406 - auc: 0.9449 - prc: 0.8296 - val_loss: 0.4289 - val_tp: 9.0000 - val_fp: 5.0000 - val_tn: 52.0000 - val_fn: 8.0000 - val_accuracy: 0.8243 - val_precision: 0.6429 - val_recall: 0.5294 - val_auc: 0.8338 - val_prc: 0.4870\n",
      "Epoch 11/30\n",
      "37/37 [==============================] - 202s 5s/step - loss: 0.2330 - tp: 42.0000 - fp: 11.0000 - tn: 219.0000 - fn: 22.0000 - accuracy: 0.8878 - precision: 0.7925 - recall: 0.6562 - auc: 0.9505 - prc: 0.8585 - val_loss: 0.4338 - val_tp: 9.0000 - val_fp: 5.0000 - val_tn: 52.0000 - val_fn: 8.0000 - val_accuracy: 0.8243 - val_precision: 0.6429 - val_recall: 0.5294 - val_auc: 0.8318 - val_prc: 0.4817\n",
      "Epoch 12/30\n",
      "37/37 [==============================] - 203s 5s/step - loss: 0.2228 - tp: 45.0000 - fp: 8.0000 - tn: 222.0000 - fn: 19.0000 - accuracy: 0.9082 - precision: 0.8491 - recall: 0.7031 - auc: 0.9537 - prc: 0.8741 - val_loss: 0.5405 - val_tp: 1.0000 - val_fp: 3.0000 - val_tn: 54.0000 - val_fn: 16.0000 - val_accuracy: 0.7432 - val_precision: 0.2500 - val_recall: 0.0588 - val_auc: 0.8349 - val_prc: 0.4885\n",
      "Epoch 13/30\n",
      "37/37 [==============================] - 204s 5s/step - loss: 0.1965 - tp: 45.0000 - fp: 7.0000 - tn: 223.0000 - fn: 19.0000 - accuracy: 0.9116 - precision: 0.8654 - recall: 0.7031 - auc: 0.9693 - prc: 0.9116 - val_loss: 0.4454 - val_tp: 9.0000 - val_fp: 6.0000 - val_tn: 51.0000 - val_fn: 8.0000 - val_accuracy: 0.8108 - val_precision: 0.6000 - val_recall: 0.5294 - val_auc: 0.8344 - val_prc: 0.4821\n",
      "Epoch 14/30\n",
      "37/37 [==============================] - 202s 5s/step - loss: 0.2008 - tp: 50.0000 - fp: 6.0000 - tn: 224.0000 - fn: 14.0000 - accuracy: 0.9320 - precision: 0.8929 - recall: 0.7812 - auc: 0.9701 - prc: 0.9117 - val_loss: 0.4579 - val_tp: 10.0000 - val_fp: 7.0000 - val_tn: 50.0000 - val_fn: 7.0000 - val_accuracy: 0.8108 - val_precision: 0.5882 - val_recall: 0.5882 - val_auc: 0.8302 - val_prc: 0.4783\n",
      "Epoch 15/30\n",
      "37/37 [==============================] - 202s 5s/step - loss: 0.1937 - tp: 45.0000 - fp: 7.0000 - tn: 223.0000 - fn: 19.0000 - accuracy: 0.9116 - precision: 0.8654 - recall: 0.7031 - auc: 0.9721 - prc: 0.8979 - val_loss: 0.4534 - val_tp: 9.0000 - val_fp: 6.0000 - val_tn: 51.0000 - val_fn: 8.0000 - val_accuracy: 0.8108 - val_precision: 0.6000 - val_recall: 0.5294 - val_auc: 0.8328 - val_prc: 0.4896\n",
      "Epoch 16/30\n",
      "37/37 [==============================] - 203s 5s/step - loss: 0.1563 - tp: 56.0000 - fp: 5.0000 - tn: 225.0000 - fn: 8.0000 - accuracy: 0.9558 - precision: 0.9180 - recall: 0.8750 - auc: 0.9832 - prc: 0.9518 - val_loss: 0.4433 - val_tp: 10.0000 - val_fp: 7.0000 - val_tn: 50.0000 - val_fn: 7.0000 - val_accuracy: 0.8108 - val_precision: 0.5882 - val_recall: 0.5882 - val_auc: 0.8380 - val_prc: 0.4920\n",
      "Epoch 17/30\n",
      "37/37 [==============================] - 202s 5s/step - loss: 0.1357 - tp: 55.0000 - fp: 2.0000 - tn: 228.0000 - fn: 9.0000 - accuracy: 0.9626 - precision: 0.9649 - recall: 0.8594 - auc: 0.9835 - prc: 0.9671 - val_loss: 0.5071 - val_tp: 3.0000 - val_fp: 4.0000 - val_tn: 53.0000 - val_fn: 14.0000 - val_accuracy: 0.7568 - val_precision: 0.4286 - val_recall: 0.1765 - val_auc: 0.8318 - val_prc: 0.4812\n",
      "Epoch 18/30\n",
      "37/37 [==============================] - 203s 5s/step - loss: 0.1351 - tp: 54.0000 - fp: 1.0000 - tn: 229.0000 - fn: 10.0000 - accuracy: 0.9626 - precision: 0.9818 - recall: 0.8438 - auc: 0.9934 - prc: 0.9801 - val_loss: 0.4641 - val_tp: 9.0000 - val_fp: 6.0000 - val_tn: 51.0000 - val_fn: 8.0000 - val_accuracy: 0.8108 - val_precision: 0.6000 - val_recall: 0.5294 - val_auc: 0.8354 - val_prc: 0.4803\n",
      "Epoch 19/30\n",
      "37/37 [==============================] - 203s 5s/step - loss: 0.1232 - tp: 54.0000 - fp: 0.0000e+00 - tn: 230.0000 - fn: 10.0000 - accuracy: 0.9660 - precision: 1.0000 - recall: 0.8438 - auc: 0.9968 - prc: 0.9892 - val_loss: 0.4866 - val_tp: 8.0000 - val_fp: 4.0000 - val_tn: 53.0000 - val_fn: 9.0000 - val_accuracy: 0.8243 - val_precision: 0.6667 - val_recall: 0.4706 - val_auc: 0.8328 - val_prc: 0.4807\n",
      "Epoch 20/30\n",
      "37/37 [==============================] - 202s 5s/step - loss: 0.1172 - tp: 57.0000 - fp: 0.0000e+00 - tn: 230.0000 - fn: 7.0000 - accuracy: 0.9762 - precision: 1.0000 - recall: 0.8906 - auc: 0.9961 - prc: 0.9885 - val_loss: 0.4888 - val_tp: 8.0000 - val_fp: 5.0000 - val_tn: 52.0000 - val_fn: 9.0000 - val_accuracy: 0.8108 - val_precision: 0.6154 - val_recall: 0.4706 - val_auc: 0.8406 - val_prc: 0.4868\n",
      "Epoch 21/30\n",
      "37/37 [==============================] - 203s 5s/step - loss: 0.1027 - tp: 55.0000 - fp: 0.0000e+00 - tn: 230.0000 - fn: 9.0000 - accuracy: 0.9694 - precision: 1.0000 - recall: 0.8594 - auc: 0.9987 - prc: 0.9955 - val_loss: 0.5032 - val_tp: 10.0000 - val_fp: 8.0000 - val_tn: 49.0000 - val_fn: 7.0000 - val_accuracy: 0.7973 - val_precision: 0.5556 - val_recall: 0.5882 - val_auc: 0.8400 - val_prc: 0.4851\n",
      "Epoch 22/30\n",
      "37/37 [==============================] - 202s 5s/step - loss: 0.1195 - tp: 54.0000 - fp: 3.0000 - tn: 227.0000 - fn: 10.0000 - accuracy: 0.9558 - precision: 0.9474 - recall: 0.8438 - auc: 0.9954 - prc: 0.9834 - val_loss: 0.4777 - val_tp: 10.0000 - val_fp: 7.0000 - val_tn: 50.0000 - val_fn: 7.0000 - val_accuracy: 0.8108 - val_precision: 0.5882 - val_recall: 0.5882 - val_auc: 0.8406 - val_prc: 0.4901\n",
      "Epoch 23/30\n",
      "37/37 [==============================] - 202s 5s/step - loss: 0.0986 - tp: 58.0000 - fp: 0.0000e+00 - tn: 230.0000 - fn: 6.0000 - accuracy: 0.9796 - precision: 1.0000 - recall: 0.9062 - auc: 0.9988 - prc: 0.9959 - val_loss: 0.5023 - val_tp: 10.0000 - val_fp: 7.0000 - val_tn: 50.0000 - val_fn: 7.0000 - val_accuracy: 0.8108 - val_precision: 0.5882 - val_recall: 0.5882 - val_auc: 0.8375 - val_prc: 0.4879\n",
      "Epoch 24/30\n",
      "37/37 [==============================] - 204s 6s/step - loss: 0.0861 - tp: 58.0000 - fp: 1.0000 - tn: 229.0000 - fn: 6.0000 - accuracy: 0.9762 - precision: 0.9831 - recall: 0.9062 - auc: 0.9980 - prc: 0.9932 - val_loss: 0.4993 - val_tp: 10.0000 - val_fp: 7.0000 - val_tn: 50.0000 - val_fn: 7.0000 - val_accuracy: 0.8108 - val_precision: 0.5882 - val_recall: 0.5882 - val_auc: 0.8416 - val_prc: 0.4895\n",
      "Epoch 25/30\n",
      "37/37 [==============================] - 202s 5s/step - loss: 0.0809 - tp: 59.0000 - fp: 1.0000 - tn: 229.0000 - fn: 5.0000 - accuracy: 0.9796 - precision: 0.9833 - recall: 0.9219 - auc: 0.9983 - prc: 0.9944 - val_loss: 0.5300 - val_tp: 8.0000 - val_fp: 4.0000 - val_tn: 53.0000 - val_fn: 9.0000 - val_accuracy: 0.8243 - val_precision: 0.6667 - val_recall: 0.4706 - val_auc: 0.8421 - val_prc: 0.4839\n",
      "Epoch 26/30\n",
      "37/37 [==============================] - 203s 5s/step - loss: 0.0964 - tp: 57.0000 - fp: 1.0000 - tn: 229.0000 - fn: 7.0000 - accuracy: 0.9728 - precision: 0.9828 - recall: 0.8906 - auc: 0.9968 - prc: 0.9887 - val_loss: 0.5590 - val_tp: 5.0000 - val_fp: 4.0000 - val_tn: 53.0000 - val_fn: 12.0000 - val_accuracy: 0.7838 - val_precision: 0.5556 - val_recall: 0.2941 - val_auc: 0.8240 - val_prc: 0.4765\n",
      "Epoch 27/30\n",
      "37/37 [==============================] - 203s 5s/step - loss: 0.0836 - tp: 58.0000 - fp: 1.0000 - tn: 229.0000 - fn: 6.0000 - accuracy: 0.9762 - precision: 0.9831 - recall: 0.9062 - auc: 0.9993 - prc: 0.9974 - val_loss: 0.5459 - val_tp: 7.0000 - val_fp: 4.0000 - val_tn: 53.0000 - val_fn: 10.0000 - val_accuracy: 0.8108 - val_precision: 0.6364 - val_recall: 0.4118 - val_auc: 0.8349 - val_prc: 0.4922\n",
      "Epoch 28/30\n",
      "37/37 [==============================] - 203s 5s/step - loss: 0.0664 - tp: 62.0000 - fp: 0.0000e+00 - tn: 230.0000 - fn: 2.0000 - accuracy: 0.9932 - precision: 1.0000 - recall: 0.9688 - auc: 0.9999 - prc: 0.9998 - val_loss: 0.5223 - val_tp: 10.0000 - val_fp: 8.0000 - val_tn: 49.0000 - val_fn: 7.0000 - val_accuracy: 0.7973 - val_precision: 0.5556 - val_recall: 0.5882 - val_auc: 0.8421 - val_prc: 0.4905\n",
      "Epoch 29/30\n",
      "37/37 [==============================] - 202s 5s/step - loss: 0.0557 - tp: 64.0000 - fp: 0.0000e+00 - tn: 230.0000 - fn: 0.0000e+00 - accuracy: 1.0000 - precision: 1.0000 - recall: 1.0000 - auc: 1.0000 - prc: 1.0000 - val_loss: 0.5389 - val_tp: 10.0000 - val_fp: 8.0000 - val_tn: 49.0000 - val_fn: 7.0000 - val_accuracy: 0.7973 - val_precision: 0.5556 - val_recall: 0.5882 - val_auc: 0.8426 - val_prc: 0.4909\n",
      "Epoch 30/30\n",
      "37/37 [==============================] - 202s 5s/step - loss: 0.0721 - tp: 60.0000 - fp: 0.0000e+00 - tn: 230.0000 - fn: 4.0000 - accuracy: 0.9864 - precision: 1.0000 - recall: 0.9375 - auc: 0.9987 - prc: 0.9959 - val_loss: 0.5263 - val_tp: 10.0000 - val_fp: 8.0000 - val_tn: 49.0000 - val_fn: 7.0000 - val_accuracy: 0.7973 - val_precision: 0.5556 - val_recall: 0.5882 - val_auc: 0.8457 - val_prc: 0.4944\n",
      "INFO:tensorflow:Assets written to: /home/jovyan/NAS/Subtypes-detection-of-papillary-thyroid-cancer-from-methylation-assay-via-Deep-Neural-Network/Models/thyroid-subtype/assets\n"
     ]
    },
    {
     "name": "stderr",
     "output_type": "stream",
     "text": [
      "INFO:tensorflow:Assets written to: /home/jovyan/NAS/Subtypes-detection-of-papillary-thyroid-cancer-from-methylation-assay-via-Deep-Neural-Network/Models/thyroid-subtype/assets\n"
     ]
    }
   ],
   "source": [
    "X_train = np.nan_to_num(npzfiles['X_subtype_train'])\n",
    "y_train = npzfiles['y_subtype_train']\n",
    "\n",
    "model = make_or_restore_model('ckpt-thyroid-subtype', reset_last_layer=True)\n",
    "\n",
    "subtype_history = model.fit(X_train,y_train, batch_size=8, epochs=30, callbacks=early_stopping_cb, validation_split=0.2, shuffle=True)\n",
    "subtype_df = pd.DataFrame(subtype_history.history)\n",
    "subtype_df.to_csv(os.path.join('fit_history','thyroid-subtype.csv'))\n",
    "\n",
    "model.save(os.path.join(MODEL_PATH,\"thyroid-subtype\"))"
   ]
  }
 ],
 "metadata": {
  "kernelspec": {
   "display_name": "Python [conda env:tf_gpu]",
   "language": "python",
   "name": "conda-env-tf_gpu-py"
  },
  "language_info": {
   "codemirror_mode": {
    "name": "ipython",
    "version": 3
   },
   "file_extension": ".py",
   "mimetype": "text/x-python",
   "name": "python",
   "nbconvert_exporter": "python",
   "pygments_lexer": "ipython3",
   "version": "3.11.6"
  }
 },
 "nbformat": 4,
 "nbformat_minor": 5
}
