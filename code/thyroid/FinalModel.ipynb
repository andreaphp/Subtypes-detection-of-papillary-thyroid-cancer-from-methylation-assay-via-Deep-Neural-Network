{
 "cells": [
  {
   "cell_type": "markdown",
   "id": "42f928fb-7805-4783-9c92-65e4bce7558f",
   "metadata": {
    "tags": []
   },
   "source": [
    "# Fine-Tuning the CNN on Cancer and Subtype\n",
    "\n",
    "\n",
    "\n"
   ]
  },
  {
   "cell_type": "code",
   "execution_count": 1,
   "id": "9b093c1f-8c9b-4192-b7e1-1b2e38c220fa",
   "metadata": {
    "tags": []
   },
   "outputs": [
    {
     "name": "stderr",
     "output_type": "stream",
     "text": [
      "2025-04-11 15:43:13.345648: I tensorflow/core/util/port.cc:111] oneDNN custom operations are on. You may see slightly different numerical results due to floating-point round-off errors from different computation orders. To turn them off, set the environment variable `TF_ENABLE_ONEDNN_OPTS=0`.\n",
      "2025-04-11 15:43:13.396225: E tensorflow/compiler/xla/stream_executor/cuda/cuda_dnn.cc:9342] Unable to register cuDNN factory: Attempting to register factory for plugin cuDNN when one has already been registered\n",
      "2025-04-11 15:43:13.396281: E tensorflow/compiler/xla/stream_executor/cuda/cuda_fft.cc:609] Unable to register cuFFT factory: Attempting to register factory for plugin cuFFT when one has already been registered\n",
      "2025-04-11 15:43:13.396292: E tensorflow/compiler/xla/stream_executor/cuda/cuda_blas.cc:1518] Unable to register cuBLAS factory: Attempting to register factory for plugin cuBLAS when one has already been registered\n",
      "2025-04-11 15:43:13.404241: I tensorflow/core/platform/cpu_feature_guard.cc:182] This TensorFlow binary is optimized to use available CPU instructions in performance-critical operations.\n",
      "To enable the following instructions: SSE4.1 SSE4.2 AVX AVX2 AVX512F AVX512_VNNI FMA, in other operations, rebuild TensorFlow with the appropriate compiler flags.\n"
     ]
    }
   ],
   "source": [
    "import os\n",
    "import sys\n",
    "from pathlib import Path\n",
    "\n",
    "import pandas as p\n",
    "import numpy as np\n",
    "\n",
    "import tensorflow as tf\n",
    "from tensorflow import keras\n",
    "#Add the parent directory to access ENV variables\n",
    "sys.path.append(os.path.abspath(os.path.join(os.getcwd(), '..')))\n",
    "\n",
    "#Import of necessary paths ( GDC data Path and Dataset folder)\n",
    "from config import THYROID_PATH, MODEL_PATH, RESULTS_PATH"
   ]
  },
  {
   "cell_type": "code",
   "execution_count": 2,
   "id": "398c15ad-3707-4e49-bb35-b907c3eda002",
   "metadata": {
    "tags": []
   },
   "outputs": [],
   "source": [
    "FinalPath = Path(THYROID_PATH,'FinalData.npy')\n",
    "npzfiles = np.load(FinalPath,allow_pickle=True)\n",
    "\n",
    "\n",
    "#output_folder = Path(RESULTS_PATH,'UnfilteredCancer/')\n",
    "#output_folder.mkdir(exist_ok=True) #Create output folder if it does not exist "
   ]
  },
  {
   "cell_type": "code",
   "execution_count": 3,
   "id": "186bf259-df00-4b8e-9c77-df6613a6f004",
   "metadata": {
    "tags": []
   },
   "outputs": [],
   "source": [
    "def get_uncompiled_model(reset_last_layer=False):\n",
    "    \n",
    "    model = keras.models.load_model(os.path.join(MODEL_PATH,'pan-cancer-leaky-relu'))\n",
    "    if(reset_last_layer):\n",
    "        output_follicolar= keras.layers.Dense(1, activation='sigmoid',name='output_follicolar')(model.layers[-2].output)\n",
    "        model = keras.models.Model(inputs=model.input, outputs = [output_follicolar])\n",
    "    return model\n",
    "\n",
    "def get_compiled_model(metrics=None,reset_last_layer=False):\n",
    "    \n",
    "    if(metrics is None):\n",
    "        metrics = [\n",
    "              keras.metrics.TruePositives(name='tp'),\n",
    "              keras.metrics.FalsePositives(name='fp'),\n",
    "              keras.metrics.TrueNegatives(name='tn'),\n",
    "              keras.metrics.FalseNegatives(name='fn'), \n",
    "              keras.metrics.BinaryAccuracy(name='accuracy'),\n",
    "              keras.metrics.Precision(name='precision'),\n",
    "              keras.metrics.Recall(name='recall'),\n",
    "              keras.metrics.AUC(name='auc'),\n",
    "              keras.metrics.AUC(name='prc', curve='PR'), # precision-recall curve\n",
    "        ]\n",
    "        \n",
    "    model = get_uncompiled_model(reset_last_layer)\n",
    "    model.compile(loss='binary_crossentropy',optimizer=keras.optimizers.Adam(3e-5),metrics=metrics)\n",
    "    \n",
    "    return model\n",
    "\n",
    "early_stopping_cb = tf.keras.callbacks.EarlyStopping(\n",
    "    monitor='prc', \n",
    "    verbose=1,\n",
    "    patience=10,\n",
    "    mode='max',\n",
    "    restore_best_weights=True)\n",
    "\n",
    "def make_or_restore_model(checkpoint_dir = \"ckpt\", reset_last_layer=False):\n",
    "    # Either restore the latest model, or create a fresh one\n",
    "    # if there is no checkpoint available.\n",
    "    if not os.path.exists(checkpoint_dir):\n",
    "        os.makedirs(checkpoint_dir)\n",
    "    checkpoints = [checkpoint_dir + \"/\" + name for name in os.listdir(checkpoint_dir)]\n",
    "    if checkpoints:\n",
    "        latest_checkpoint = max(checkpoints, key=os.path.getctime)\n",
    "        print(\"Restoring from\", latest_checkpoint)\n",
    "        return keras.models.load_model(latest_checkpoint)\n",
    "    print(\"Creating a new model\")\n",
    "    return get_compiled_model(reset_last_layer=reset_last_layer)"
   ]
  },
  {
   "cell_type": "code",
   "execution_count": 4,
   "id": "45935017-1a5f-4f93-9a73-06e76fc84160",
   "metadata": {},
   "outputs": [],
   "source": [
    "#Retrain Base Model for thyroid cancer classification"
   ]
  },
  {
   "cell_type": "code",
   "execution_count": null,
   "id": "efd36940-883d-4ea9-b238-7a86fd2f7aba",
   "metadata": {},
   "outputs": [
    {
     "name": "stdout",
     "output_type": "stream",
     "text": [
      "Creating a new model\n"
     ]
    },
    {
     "name": "stderr",
     "output_type": "stream",
     "text": [
      "2025-04-11 15:43:27.089981: I tensorflow/compiler/xla/stream_executor/cuda/cuda_gpu_executor.cc:894] successful NUMA node read from SysFS had negative value (-1), but there must be at least one NUMA node, so returning NUMA node zero. See more at https://github.com/torvalds/linux/blob/v6.0/Documentation/ABI/testing/sysfs-bus-pci#L344-L355\n",
      "2025-04-11 15:43:27.135443: I tensorflow/compiler/xla/stream_executor/cuda/cuda_gpu_executor.cc:894] successful NUMA node read from SysFS had negative value (-1), but there must be at least one NUMA node, so returning NUMA node zero. See more at https://github.com/torvalds/linux/blob/v6.0/Documentation/ABI/testing/sysfs-bus-pci#L344-L355\n",
      "2025-04-11 15:43:27.135781: I tensorflow/compiler/xla/stream_executor/cuda/cuda_gpu_executor.cc:894] successful NUMA node read from SysFS had negative value (-1), but there must be at least one NUMA node, so returning NUMA node zero. See more at https://github.com/torvalds/linux/blob/v6.0/Documentation/ABI/testing/sysfs-bus-pci#L344-L355\n",
      "2025-04-11 15:43:27.137345: I tensorflow/compiler/xla/stream_executor/cuda/cuda_gpu_executor.cc:894] successful NUMA node read from SysFS had negative value (-1), but there must be at least one NUMA node, so returning NUMA node zero. See more at https://github.com/torvalds/linux/blob/v6.0/Documentation/ABI/testing/sysfs-bus-pci#L344-L355\n",
      "2025-04-11 15:43:27.137588: I tensorflow/compiler/xla/stream_executor/cuda/cuda_gpu_executor.cc:894] successful NUMA node read from SysFS had negative value (-1), but there must be at least one NUMA node, so returning NUMA node zero. See more at https://github.com/torvalds/linux/blob/v6.0/Documentation/ABI/testing/sysfs-bus-pci#L344-L355\n",
      "2025-04-11 15:43:27.137747: I tensorflow/compiler/xla/stream_executor/cuda/cuda_gpu_executor.cc:894] successful NUMA node read from SysFS had negative value (-1), but there must be at least one NUMA node, so returning NUMA node zero. See more at https://github.com/torvalds/linux/blob/v6.0/Documentation/ABI/testing/sysfs-bus-pci#L344-L355\n",
      "2025-04-11 15:43:27.545086: I tensorflow/compiler/xla/stream_executor/cuda/cuda_gpu_executor.cc:894] successful NUMA node read from SysFS had negative value (-1), but there must be at least one NUMA node, so returning NUMA node zero. See more at https://github.com/torvalds/linux/blob/v6.0/Documentation/ABI/testing/sysfs-bus-pci#L344-L355\n",
      "2025-04-11 15:43:27.545372: I tensorflow/compiler/xla/stream_executor/cuda/cuda_gpu_executor.cc:894] successful NUMA node read from SysFS had negative value (-1), but there must be at least one NUMA node, so returning NUMA node zero. See more at https://github.com/torvalds/linux/blob/v6.0/Documentation/ABI/testing/sysfs-bus-pci#L344-L355\n",
      "2025-04-11 15:43:27.545550: I tensorflow/compiler/xla/stream_executor/cuda/cuda_gpu_executor.cc:894] successful NUMA node read from SysFS had negative value (-1), but there must be at least one NUMA node, so returning NUMA node zero. See more at https://github.com/torvalds/linux/blob/v6.0/Documentation/ABI/testing/sysfs-bus-pci#L344-L355\n",
      "2025-04-11 15:43:27.545676: I tensorflow/core/common_runtime/gpu/gpu_device.cc:1886] Created device /job:localhost/replica:0/task:0/device:GPU:0 with 14946 MB memory:  -> device: 0, name: Quadro RTX 5000, pci bus id: 0000:01:00.0, compute capability: 7.5\n"
     ]
    },
    {
     "name": "stdout",
     "output_type": "stream",
     "text": [
      "Epoch 1/30\n"
     ]
    },
    {
     "name": "stderr",
     "output_type": "stream",
     "text": [
      "2025-04-11 15:43:39.961772: I tensorflow/compiler/xla/stream_executor/cuda/cuda_dnn.cc:442] Loaded cuDNN version 8800\n",
      "2025-04-11 15:43:43.306068: I tensorflow/compiler/xla/service/service.cc:168] XLA service 0x7f93d80b8950 initialized for platform CUDA (this does not guarantee that XLA will be used). Devices:\n",
      "2025-04-11 15:43:43.306127: I tensorflow/compiler/xla/service/service.cc:176]   StreamExecutor device (0): Quadro RTX 5000, Compute Capability 7.5\n",
      "2025-04-11 15:43:43.311621: I tensorflow/compiler/mlir/tensorflow/utils/dump_mlir_util.cc:269] disabling MLIR crash reproducer, set env var `MLIR_CRASH_REPRODUCER_DIRECTORY` to enable.\n",
      "2025-04-11 15:43:43.440842: I ./tensorflow/compiler/jit/device_compiler.h:186] Compiled cluster using XLA!  This line is logged at most once for the lifetime of the process.\n"
     ]
    },
    {
     "name": "stdout",
     "output_type": "stream",
     "text": [
      "42/42 [==============================] - 43s 647ms/step - loss: 4.4613 - tp: 259.0000 - fp: 5.0000 - tn: 25.0000 - fn: 40.0000 - accuracy: 0.8632 - precision: 0.9811 - recall: 0.8662 - auc: 0.8690 - prc: 0.9792 - val_loss: 1.1587 - val_tp: 67.0000 - val_fp: 2.0000 - val_tn: 12.0000 - val_fn: 2.0000 - val_accuracy: 0.9518 - val_precision: 0.9710 - val_recall: 0.9710 - val_auc: 0.9099 - val_prc: 0.9677\n",
      "Epoch 2/30\n",
      "42/42 [==============================] - 25s 596ms/step - loss: 2.4494 - tp: 286.0000 - fp: 10.0000 - tn: 20.0000 - fn: 13.0000 - accuracy: 0.9301 - precision: 0.9662 - recall: 0.9565 - auc: 0.8431 - prc: 0.9709 - val_loss: 1.3007 - val_tp: 67.0000 - val_fp: 4.0000 - val_tn: 10.0000 - val_fn: 2.0000 - val_accuracy: 0.9277 - val_precision: 0.9437 - val_recall: 0.9710 - val_auc: 0.8478 - val_prc: 0.9428\n",
      "Epoch 3/30\n",
      "42/42 [==============================] - 25s 591ms/step - loss: 2.0094 - tp: 288.0000 - fp: 9.0000 - tn: 21.0000 - fn: 11.0000 - accuracy: 0.9392 - precision: 0.9697 - recall: 0.9632 - auc: 0.8620 - prc: 0.9746 - val_loss: 1.5442 - val_tp: 68.0000 - val_fp: 5.0000 - val_tn: 9.0000 - val_fn: 1.0000 - val_accuracy: 0.9277 - val_precision: 0.9315 - val_recall: 0.9855 - val_auc: 0.8483 - val_prc: 0.9433\n",
      "Epoch 4/30\n",
      "42/42 [==============================] - 25s 594ms/step - loss: 1.3052 - tp: 293.0000 - fp: 10.0000 - tn: 20.0000 - fn: 6.0000 - accuracy: 0.9514 - precision: 0.9670 - recall: 0.9799 - auc: 0.8883 - prc: 0.9790 - val_loss: 1.5391 - val_tp: 68.0000 - val_fp: 5.0000 - val_tn: 9.0000 - val_fn: 1.0000 - val_accuracy: 0.9277 - val_precision: 0.9315 - val_recall: 0.9855 - val_auc: 0.8483 - val_prc: 0.9433\n",
      "Epoch 5/30\n",
      "42/42 [==============================] - 25s 592ms/step - loss: 2.1710 - tp: 292.0000 - fp: 10.0000 - tn: 20.0000 - fn: 7.0000 - accuracy: 0.9483 - precision: 0.9669 - recall: 0.9766 - auc: 0.8231 - prc: 0.9661 - val_loss: 1.1879 - val_tp: 67.0000 - val_fp: 4.0000 - val_tn: 10.0000 - val_fn: 2.0000 - val_accuracy: 0.9277 - val_precision: 0.9437 - val_recall: 0.9710 - val_auc: 0.9120 - val_prc: 0.9685\n",
      "Epoch 6/30\n",
      "42/42 [==============================] - 25s 592ms/step - loss: 1.8181 - tp: 291.0000 - fp: 14.0000 - tn: 16.0000 - fn: 8.0000 - accuracy: 0.9331 - precision: 0.9541 - recall: 0.9732 - auc: 0.8177 - prc: 0.9657 - val_loss: 1.2267 - val_tp: 67.0000 - val_fp: 4.0000 - val_tn: 10.0000 - val_fn: 2.0000 - val_accuracy: 0.9277 - val_precision: 0.9437 - val_recall: 0.9710 - val_auc: 0.8478 - val_prc: 0.9428\n",
      "Epoch 7/30\n",
      "42/42 [==============================] - 25s 593ms/step - loss: 2.7465 - tp: 287.0000 - fp: 7.0000 - tn: 23.0000 - fn: 12.0000 - accuracy: 0.9422 - precision: 0.9762 - recall: 0.9599 - auc: 0.8613 - prc: 0.9744 - val_loss: 1.4422 - val_tp: 68.0000 - val_fp: 5.0000 - val_tn: 9.0000 - val_fn: 1.0000 - val_accuracy: 0.9277 - val_precision: 0.9315 - val_recall: 0.9855 - val_auc: 0.8483 - val_prc: 0.9433\n",
      "Epoch 8/30\n",
      "42/42 [==============================] - 25s 593ms/step - loss: 1.4864 - tp: 295.0000 - fp: 8.0000 - tn: 22.0000 - fn: 4.0000 - accuracy: 0.9635 - precision: 0.9736 - recall: 0.9866 - auc: 0.8783 - prc: 0.9765 - val_loss: 1.0644 - val_tp: 67.0000 - val_fp: 3.0000 - val_tn: 11.0000 - val_fn: 2.0000 - val_accuracy: 0.9398 - val_precision: 0.9571 - val_recall: 0.9710 - val_auc: 0.9120 - val_prc: 0.9685\n",
      "Epoch 9/30\n",
      "42/42 [==============================] - 25s 593ms/step - loss: 1.5358 - tp: 291.0000 - fp: 8.0000 - tn: 22.0000 - fn: 8.0000 - accuracy: 0.9514 - precision: 0.9732 - recall: 0.9732 - auc: 0.9027 - prc: 0.9819 - val_loss: 1.0598 - val_tp: 67.0000 - val_fp: 2.0000 - val_tn: 12.0000 - val_fn: 2.0000 - val_accuracy: 0.9518 - val_precision: 0.9710 - val_recall: 0.9710 - val_auc: 0.9141 - val_prc: 0.9689\n",
      "Epoch 10/30\n",
      "11/42 [======>.......................] - ETA: 17s - loss: 0.9512 - tp: 77.0000 - fp: 2.0000 - tn: 7.0000 - fn: 2.0000 - accuracy: 0.9545 - precision: 0.9747 - recall: 0.9747 - auc: 0.9255 - prc: 0.9850    "
     ]
    }
   ],
   "source": [
    "X_train = np.nan_to_num(npzfiles['X_cancer_train'])\n",
    "y_train = npzfiles['y_cancer_train']\n",
    "\n",
    "model = make_or_restore_model('ckpt-thyroid-cancer')\n",
    "\n",
    "cancer_history = model.fit(X_train,y_train, batch_size=8, epochs=30, callbacks=early_stopping_cb, validation_split=0.2, shuffle=True)\n",
    "\n",
    "cancer_df = pd.DataFrame(cancer_history.history)\n",
    "cancer_df.to_csv(\"fit_history/thyroid-cancer.csv\")\n",
    "model.save(os.path.join(MODEL_PATH,\"thyroid-cancer\"))"
   ]
  },
  {
   "cell_type": "code",
   "execution_count": null,
   "id": "d5c32e28-2c39-4258-a409-91a6e626f8a3",
   "metadata": {},
   "outputs": [],
   "source": [
    "X_train = np.nan_to_num(npzfiles['X_subtype_train'])\n",
    "y_train = npzfiles['y_subtype_train']\n",
    "\n",
    "model = make_or_restore_model('ckpt-thyroid-subtype', reset_last_layer=True)\n",
    "\n",
    "subtype_history = model.fit(X_train,y_train, batch_size=8, epochs=30, callbacks=early_stopping_cb, validation_split=0.2, shuffle=True)\n",
    "subtype_df = pd.DataFrame(subtype_history.history)\n",
    "subtype_df.to_csv(os.path.join('fit_history','thyroid-subtype.csv'))\n",
    "\n",
    "model.save(os.path.join(MODEL_PATH,\"thyroid-subtype\"))"
   ]
  },
  {
   "cell_type": "markdown",
   "id": "6ebf041a-1e1b-4cca-95ce-6f7f07c9a657",
   "metadata": {},
   "source": [
    "from sklearn.model_selection import train_test_split\n",
    "X_train, X_test, y_train,y_test = train_test_split(X, y, test_size=0.2,shuffle=True, stratify=y)\n",
    "\n",
    "from collections import Counter\n",
    "X_train_fill = SimpleImputer(strategy='constant').fit_transform(X_train,y_train)\n",
    "X_train_over,y_train_over = over.fit_resample(X_train_fill,y_train)\n",
    "X_train_under,y_train_under = under.fit_resample(X_train_over,y_train_over)\n",
    "\n",
    "X_test_fill = SimpleImputer(strategy='constant').fit_transform(X_test,y_test)\n",
    "X_test_over,y_test_over = over.fit_resample(X_test_fill,y_test)\n",
    "X_test_under,y_test_under = under.fit_resample(X_test_over,y_test_over)\n",
    "\n",
    "print(Counter(y_train))\n",
    "print(Counter(y_train_under))\n",
    "\n",
    "print(Counter(y_test))\n",
    "print(Counter(y_test_under))\n",
    "\n"
   ]
  }
 ],
 "metadata": {
  "kernelspec": {
   "display_name": "Python [conda env:tf_gpu]",
   "language": "python",
   "name": "conda-env-tf_gpu-py"
  },
  "language_info": {
   "codemirror_mode": {
    "name": "ipython",
    "version": 3
   },
   "file_extension": ".py",
   "mimetype": "text/x-python",
   "name": "python",
   "nbconvert_exporter": "python",
   "pygments_lexer": "ipython3",
   "version": "3.11.6"
  }
 },
 "nbformat": 4,
 "nbformat_minor": 5
}
