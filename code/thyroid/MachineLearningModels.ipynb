{
 "cells": [
  {
   "cell_type": "code",
   "execution_count": null,
   "id": "83e16cd2-d133-4b3b-a4de-c3b984a4dbcb",
   "metadata": {
    "tags": []
   },
   "outputs": [],
   "source": [
    "import os\n",
    "import sys\n",
    "from pathlib import Path\n",
    "\n",
    "import numpy as np\n",
    "import pandas as pd\n",
    "#Sklearn imports\n",
    "from sklearn.metrics import make_scorer, recall_score, precision_score, roc_auc_score, f1_score\n",
    "from sklearn.pipeline import Pipeline\n",
    "from sklearn.impute import SimpleImputer\n",
    "from sklearn.model_selection import cross_validate, RepeatedStratifiedKFold\n",
    "from sklearn.dummy import DummyClassifier\n",
    "from sklearn.exceptions import UndefinedMetricWarning\n",
    "from sklearn.linear_model import LogisticRegression\n",
    "from sklearn.discriminant_analysis import QuadraticDiscriminantAnalysis\n",
    "from sklearn.feature_selection import SelectFromModel\n",
    "from sklearn.svm import SVC\n",
    "from sklearn.ensemble import RandomForestClassifier\n",
    "\n",
    "import tensorflow as tf\n",
    "from tensorflow import keras\n",
    "from scikeras.wrappers import KerasClassifier\n",
    "\n",
    "from lightgbm import LGBMClassifier\n",
    "\n",
    "#Add the parent directory to access ENV variables\n",
    "sys.path.append(os.path.abspath(os.path.join(os.getcwd(), '..')))\n",
    "\n",
    "#Import of necessary paths ( GDC data Path and Dataset folder)\n",
    "from config import THYROID_PATH, MODEL_PATH, RESULTS_PATH"
   ]
  },
  {
   "cell_type": "code",
   "execution_count": null,
   "id": "82415176-5b0b-4e22-bb6c-5b273c9d48c3",
   "metadata": {
    "tags": []
   },
   "outputs": [],
   "source": [
    "#definition of scoring metrics\n",
    "scoring={\n",
    "          'acc': 'accuracy',\n",
    "          'roc': make_scorer(roc_auc_score),\n",
    "          'recall0': make_scorer(recall_score, average = None,labels=[0]),\n",
    "          'recall1': make_scorer(recall_score, average = None,labels=[1]),\n",
    "          'precision0': make_scorer(precision_score, average = None,labels=[0],zero_division=0),\n",
    "          'precision1': make_scorer(precision_score, average = None,labels=[1],zero_division=0),\n",
    "          'f0': make_scorer(f1_score,average=None,labels = [0]),\n",
    "          'f1': make_scorer(f1_score,average=None,labels = [1]),\n",
    "           }\n",
    "\n",
    "imputer = SimpleImputer(strategy='constant')\n",
    "\n",
    "cv = RepeatedStratifiedKFold(n_splits=5, n_repeats=5,random_state=2024)\n",
    "\n",
    "def save_report(report,folder,name,experiment=\"5fold_Repeated\"):\n",
    "    df = pd.DataFrame(report).transpose()\n",
    "    savepath = os.path.join(folder,f'{name}_{experiment}.csv')\n",
    "    df.to_csv(savepath)"
   ]
  },
  {
   "cell_type": "code",
   "execution_count": null,
   "id": "c8c7b030-184a-4aaf-a469-04216d4d9447",
   "metadata": {
    "tags": []
   },
   "outputs": [],
   "source": [
    "models = {}\n",
    "models['Dummy_prior'] = DummyClassifier(strategy=\"prior\")\n",
    "models['Dummy_prob']= DummyClassifier(strategy=\"stratified\")\n",
    "models['Logistic_elastic'] = LogisticRegression(penalty='elasticnet',solver='saga',class_weight='balanced', C=0.02, max_iter=200,l1_ratio=0.7)\n",
    "models['QDA'] = QuadraticDiscriminantAnalysis()\n",
    "models['SVC'] = SVC(C=0.2,class_weight='balanced') \n",
    "models['RF'] = RandomForestClassifier(50, max_depth=3,max_features='log2')\n",
    "\n",
    "def get_uncompiled_model(reset_last_layer=False):\n",
    "    \n",
    "    model = keras.models.load_model(os.path.join(MODEL_PATH,'pan-cancer-solid-only'))\n",
    "    if(reset_last_layer):\n",
    "        output_follicolar= keras.layers.Dense(1, activation='sigmoid',name='output_follicolar')(model.layers[-2].output)\n",
    "        model = keras.models.Model(inputs=model.input, outputs = [output_follicolar])\n",
    "    return model\n",
    "\n",
    "def get_compiled_model(metrics=None,reset_last_layer=False):\n",
    "    \n",
    "    if(metrics is None):\n",
    "        metrics = [\n",
    "              keras.metrics.TruePositives(name='tp'),\n",
    "              keras.metrics.FalsePositives(name='fp'),\n",
    "              keras.metrics.TrueNegatives(name='tn'),\n",
    "              keras.metrics.FalseNegatives(name='fn'), \n",
    "              keras.metrics.BinaryAccuracy(name='accuracy'),\n",
    "              keras.metrics.Precision(name='precision'),\n",
    "              keras.metrics.Recall(name='recall'),\n",
    "              keras.metrics.AUC(name='auc'),\n",
    "              keras.metrics.AUC(name='prc', curve='PR'), # precision-recall curve\n",
    "        ]\n",
    "        \n",
    "    model = get_uncompiled_model(reset_last_layer)\n",
    "    model.compile(loss='binary_crossentropy',optimizer=keras.optimizers.Adam(3e-5),metrics=metrics)\n",
    "    \n",
    "    return model\n",
    "\n",
    "early_stopping_cb = tf.keras.callbacks.EarlyStopping(\n",
    "    monitor='prc', \n",
    "    verbose=1,\n",
    "    patience=10,\n",
    "    mode='max',\n",
    "    restore_best_weights=True)\n",
    "\n",
    "kwargs = dict(\n",
    "    model=get_compiled_model,\n",
    "    epochs=40,\n",
    "    verbose=True,\n",
    "    batch_size = 8,\n",
    "    callbacks = [early_stopping_cb],\n",
    "    shuffle=True,\n",
    "    #validation_split=0.2,\n",
    "    fit__class_weight = None\n",
    ")"
   ]
  },
  {
   "cell_type": "markdown",
   "id": "0944c847-a519-4fd7-9e84-a578c3ed7285",
   "metadata": {
    "tags": []
   },
   "source": [
    "# Unfiltered Cancer (Cancer vs Normal)"
   ]
  },
  {
   "cell_type": "code",
   "execution_count": null,
   "id": "f7d8f0a1-63d6-4873-b6e3-701afa9620a1",
   "metadata": {
    "tags": []
   },
   "outputs": [],
   "source": [
    "UnfilteredCancerPath = Path(THYROID_PATH,'UnfilteredCancerData.npy')\n",
    "npzfiles = np.load(UnfilteredCancerPath,allow_pickle=True)\n",
    "\n",
    "X = npzfiles['X']\n",
    "y = npzfiles['y']\n",
    "\n",
    "output_folder = Path(RESULTS_PATH,'UnfilteredCancer/')\n",
    "output_folder.mkdir(exist_ok=True) #Create output folder if it does not exist "
   ]
  },
  {
   "cell_type": "code",
   "execution_count": null,
   "id": "03e5c790-b5cc-42c8-ba1a-98575e68f9a5",
   "metadata": {
    "tags": []
   },
   "outputs": [],
   "source": [
    "pos = np.sum(y)\n",
    "total = len(y)\n",
    "neg  = total-pos\n",
    "\n",
    "weight_for_0 = (1 / neg) * (total / 2.0)\n",
    "weight_for_1 = (1 / pos) * (total / 2.0)\n",
    "\n",
    "class_weight = {0: weight_for_0, 1: weight_for_1}\n",
    "\n",
    "kwargs['fit__class_weight'] = class_weight\n",
    "\n",
    "models['NeuralNetwork']=KerasClassifier(**kwargs)"
   ]
  },
  {
   "cell_type": "code",
   "execution_count": null,
   "id": "41ed0102-d590-4035-a13e-7bdb3932efdf",
   "metadata": {
    "tags": []
   },
   "outputs": [],
   "source": [
    "for name,clf in models.items():\n",
    "    if name == 'QDA':\n",
    "        lr = LogisticRegression(penalty='l1',solver='saga',class_weight='balanced')\n",
    "        selector = SelectFromModel(lr)\n",
    "    else:\n",
    "        selector = 'passthrough'\n",
    "    \n",
    "    pipe = Pipeline(steps=[\n",
    "    ('imputation',imputer),\n",
    "    ('selector',selector),\n",
    "    ('classifier', clf)])  \n",
    "    print(name)\n",
    "    report = cross_validate(pipe,X,y, cv=cv, scoring=scoring)\n",
    "    save_report(report,output_folder,name)\n"
   ]
  },
  {
   "cell_type": "markdown",
   "id": "3baa98d1-1d89-4124-8958-850d11cef9ab",
   "metadata": {
    "jp-MarkdownHeadingCollapsed": true,
    "tags": []
   },
   "source": [
    "# Unfiltered Subtype (FvPTC vs CvPTC)"
   ]
  },
  {
   "cell_type": "code",
   "execution_count": null,
   "id": "2e86c9d7-8916-40d1-a398-12a0fd338995",
   "metadata": {
    "tags": []
   },
   "outputs": [],
   "source": [
    "UnfilteredSubtypePath = Path(THYROID_PATH,'UnfilteredSubtypeData.npy')\n",
    "npzfiles = np.load(UnfilteredSubtypePath,allow_pickle=True)\n",
    "\n",
    "X = npzfiles['X']\n",
    "y = npzfiles['y']\n",
    "\n",
    "output_folder = Path(RESULTS_PATH,'UnfilteredSubtype/')\n",
    "output_folder.mkdir(exist_ok=True) #Create output folder if it does not exist "
   ]
  },
  {
   "cell_type": "code",
   "execution_count": null,
   "id": "93cb209e-f729-490c-943a-a795c63445aa",
   "metadata": {
    "tags": []
   },
   "outputs": [],
   "source": [
    "pos = np.sum(y)\n",
    "total = len(y)\n",
    "neg  = total-pos\n",
    "\n",
    "weight_for_0 = (1 / neg) * (total / 2.0)\n",
    "weight_for_1 = (1 / pos) * (total / 2.0)\n",
    "\n",
    "class_weight = {0: weight_for_0, 1: weight_for_1}\n",
    "\n",
    "kwargs['fit__class_weight'] = class_weight\n",
    "\n",
    "models['NeuralNetwork']=KerasClassifier(**kwargs, reset_last_layer=True)"
   ]
  },
  {
   "cell_type": "code",
   "execution_count": null,
   "id": "3c0945a4-dc49-43db-90ea-ed2d37a32135",
   "metadata": {
    "tags": []
   },
   "outputs": [],
   "source": [
    "for name,clf in models.items():\n",
    "    if name == 'QDA':\n",
    "        lr = LogisticRegression(penalty='l1',solver='saga',class_weight='balanced')\n",
    "        selector = SelectFromModel(lr)\n",
    "    else:\n",
    "        selector = 'passthrough'\n",
    "    \n",
    "    pipe = Pipeline(steps=[\n",
    "    ('imputation',imputer),\n",
    "    ('selector',selector),\n",
    "    ('classifier', clf)])  \n",
    "    print(name)\n",
    "    report = cross_validate(pipe,X,y, cv=cv, scoring=scoring)\n",
    "    save_report(report,output_folder,name)\n"
   ]
  },
  {
   "cell_type": "markdown",
   "id": "d00e5cb1-86a5-4eb5-9875-f5343f32b8e9",
   "metadata": {
    "jp-MarkdownHeadingCollapsed": true,
    "tags": []
   },
   "source": [
    "# Filtered Cancer (Normal vs Cancer)"
   ]
  },
  {
   "cell_type": "code",
   "execution_count": null,
   "id": "afaced9b-4668-481f-aa5b-ce33f3d5768e",
   "metadata": {
    "tags": []
   },
   "outputs": [],
   "source": [
    "FilteredCancerPath = Path(THYROID_PATH,'FilteredCancerData.npy')\n",
    "npzfiles = np.load(FilteredCancerPath,allow_pickle=True)\n",
    "\n",
    "X = npzfiles['X']\n",
    "y = npzfiles['y']\n",
    "X_nn = npzfiles['X_nn'] #Zero-padded dataset for Neural Net Dimensionality\n",
    "\n",
    "output_folder = Path(RESULTS_PATH,'FilteredCancer/')\n",
    "output_folder.mkdir(exist_ok=True) #Create output folder if it does not exist "
   ]
  },
  {
   "cell_type": "code",
   "execution_count": null,
   "id": "ba02569f-9b5b-4d8b-8e8d-e631070d5a86",
   "metadata": {
    "tags": []
   },
   "outputs": [],
   "source": [
    "pos = np.sum(y)\n",
    "total = len(y)\n",
    "neg  = total-pos\n",
    "\n",
    "weight_for_0 = (1 / neg) * (total / 2.0)\n",
    "weight_for_1 = (1 / pos) * (total / 2.0)\n",
    "\n",
    "class_weight = {0: weight_for_0, 1: weight_for_1}\n",
    "\n",
    "kwargs['fit__class_weight'] = class_weight\n",
    "\n",
    "models['NeuralNetwork']=KerasClassifier(**kwargs)"
   ]
  },
  {
   "cell_type": "code",
   "execution_count": null,
   "id": "ffe2d0b8-f2d3-4079-a1c1-63d3f34edf0a",
   "metadata": {
    "tags": []
   },
   "outputs": [],
   "source": [
    "for name,clf in models.items():\n",
    "    if name == 'QDA':\n",
    "        lr = LogisticRegression(penalty='l1',solver='saga',class_weight='balanced')\n",
    "        selector = SelectFromModel(lr)\n",
    "    else:\n",
    "        selector = 'passthrough'\n",
    "    \n",
    "    pipe = Pipeline(steps=[\n",
    "    ('imputation',imputer),\n",
    "    ('selector',selector),\n",
    "    ('classifier', clf)])  \n",
    "    print(name)\n",
    "    \n",
    "    if(name == 'NeuralNetwork'):\n",
    "        report = cross_validate(pipe,X_nn,y, cv=cv, scoring=scoring)\n",
    "    else:\n",
    "        report = cross_validate(pipe,X,y, cv=cv, scoring=scoring)\n",
    "    save_report(report,output_folder,name)"
   ]
  },
  {
   "cell_type": "markdown",
   "id": "418a48ea-248e-4712-aaa9-3da8bdffacdb",
   "metadata": {
    "jp-MarkdownHeadingCollapsed": true,
    "tags": []
   },
   "source": [
    "# Filtered Subtype (FvPTC vs CvPTC)"
   ]
  },
  {
   "cell_type": "code",
   "execution_count": null,
   "id": "bc7f4bb4-2113-4577-b2c0-ff69c74c7183",
   "metadata": {
    "tags": []
   },
   "outputs": [],
   "source": [
    "FilteredSubtypePath = Path(THYROID_PATH,'FilteredSubtypeData.npy')\n",
    "npzfiles = np.load(FilteredSubtypePath,allow_pickle=True)\n",
    "\n",
    "X = npzfiles['X']\n",
    "y = npzfiles['y']\n",
    "X_nn = npzfiles['X_nn'] #Zero-padded dataset for Neural Net Dimensionality\n",
    "\n",
    "output_folder = Path(RESULTS_PATH,'FilteredSubtype/')\n",
    "output_folder.mkdir(exist_ok=True) #Create output folder if it does not exist "
   ]
  },
  {
   "cell_type": "code",
   "execution_count": null,
   "id": "b19f34d2-abe4-4c40-8668-22e3e4a50a54",
   "metadata": {
    "tags": []
   },
   "outputs": [],
   "source": [
    "pos = np.sum(y)\n",
    "total = len(y)\n",
    "neg  = total-pos\n",
    "\n",
    "weight_for_0 = (1 / neg) * (total / 2.0)\n",
    "weight_for_1 = (1 / pos) * (total / 2.0)\n",
    "\n",
    "class_weight = {0: weight_for_0, 1: weight_for_1}\n",
    "\n",
    "kwargs['fit__class_weight'] = class_weight\n",
    "\n",
    "models['NeuralNetwork']=KerasClassifier(**kwargs, reset_last_layer=True)"
   ]
  },
  {
   "cell_type": "code",
   "execution_count": null,
   "id": "739789e8-a253-4772-a955-a3507b6ab519",
   "metadata": {
    "tags": []
   },
   "outputs": [],
   "source": [
    "for name,clf in models.items():\n",
    "    if name == 'QDA':\n",
    "        lr = LogisticRegression(penalty='l1',solver='saga',class_weight='balanced')\n",
    "        selector = SelectFromModel(lr)\n",
    "    else:\n",
    "        selector = 'passthrough'\n",
    "    \n",
    "    pipe = Pipeline(steps=[\n",
    "    ('imputation',imputer),\n",
    "    ('selector',selector),\n",
    "    ('classifier', clf)])  \n",
    "    print(name)\n",
    "    \n",
    "    if(name == 'NeuralNetwork'):\n",
    "        report = cross_validate(pipe,X_nn,y, cv=cv, scoring=scoring)\n",
    "    else:\n",
    "        report = cross_validate(pipe,X,y, cv=cv, scoring=scoring)\n",
    "    save_report(report,output_folder,name)"
   ]
  },
  {
   "cell_type": "markdown",
   "id": "ce544cd8-7fd6-4470-91c8-6205661ad860",
   "metadata": {
    "tags": []
   },
   "source": [
    "# Differential Methylation Cancer (Cancer vs Normal)"
   ]
  },
  {
   "cell_type": "code",
   "execution_count": null,
   "id": "651615a7-fa17-49a5-928f-a229bb3a8415",
   "metadata": {
    "tags": []
   },
   "outputs": [],
   "source": [
    "DifferentialCancerPath = Path(THYROID_PATH,'DifferentialCancerData.npy')\n",
    "npzfiles = np.load(DifferentialCancerPath,allow_pickle=True)\n",
    "\n",
    "X = npzfiles['X']\n",
    "y = npzfiles['y']\n",
    "X_nn = npzfiles['X_nn'] #Zero-padded dataset for Neural Net Dimensionality\n",
    "\n",
    "output_folder = Path(RESULTS_PATH,'DifferentialCancer/')\n",
    "output_folder.mkdir(exist_ok=True) #Create output folder if it does not exist "
   ]
  },
  {
   "cell_type": "code",
   "execution_count": null,
   "id": "2e3c9e4a-d8bf-4d43-9f1c-d719bec5eceb",
   "metadata": {
    "tags": []
   },
   "outputs": [],
   "source": [
    "pos = np.sum(y)\n",
    "total = len(y)\n",
    "neg  = total-pos\n",
    "\n",
    "weight_for_0 = (1 / neg) * (total / 2.0)\n",
    "weight_for_1 = (1 / pos) * (total / 2.0)\n",
    "\n",
    "class_weight = {0: weight_for_0, 1: weight_for_1}\n",
    "\n",
    "kwargs['fit__class_weight'] = class_weight\n",
    "\n",
    "models['NeuralNetwork']=KerasClassifier(**kwargs)\n"
   ]
  },
  {
   "cell_type": "code",
   "execution_count": null,
   "id": "e193e5f0-494b-4710-8517-713e2cf5952d",
   "metadata": {
    "tags": []
   },
   "outputs": [],
   "source": [
    "models = {}\n",
    "\n",
    "\n",
    "models['LGBM'] = LGBMClassifier(n_jobs=-1)\n",
    "\n",
    "for name,clf in models.items():\n",
    "    if name == 'QDA':\n",
    "        lr = LogisticRegression(penalty='l1',solver='saga',class_weight='balanced')\n",
    "        selector = SelectFromModel(lr)\n",
    "    else:\n",
    "        selector = 'passthrough'\n",
    "    \n",
    "    pipe = Pipeline(steps=[\n",
    "    ('imputation',imputer),\n",
    "    ('selector',selector),\n",
    "    ('classifier', clf)])  \n",
    "    print(name)\n",
    "    \n",
    "    if(name == 'NeuralNetwork'):\n",
    "        report = cross_validate(pipe,X_nn,y, cv=cv, scoring=scoring)\n",
    "    else:\n",
    "        report = cross_validate(pipe,X,y, cv=cv, scoring=scoring)\n",
    "    save_report(report,output_folder,name)\n",
    "    \n",
    "del models['LGBM']"
   ]
  },
  {
   "cell_type": "markdown",
   "id": "b7a7bef4-d817-4130-979c-e5c33c7b7dde",
   "metadata": {
    "tags": []
   },
   "source": [
    "# Differential Methylation Subtype (FvPTC vs CvPTC)"
   ]
  },
  {
   "cell_type": "code",
   "execution_count": null,
   "id": "88e83725-c7f8-4169-ad0a-f13d1763fa92",
   "metadata": {
    "tags": []
   },
   "outputs": [],
   "source": [
    "DifferentialSubtypePath = Path(THYROID_PATH,'DifferentialSubtypeData.npy')\n",
    "npzfiles = np.load(DifferentialSubtypePath,allow_pickle=True)\n",
    "\n",
    "X = npzfiles['X']\n",
    "y = npzfiles['y']\n",
    "X_nn = npzfiles['X_nn'] #Zero-padded dataset for Neural Net Dimensionality\n",
    "\n",
    "output_folder = Path(RESULTS_PATH,'DifferentialSubtype/')\n",
    "output_folder.mkdir(exist_ok=True) #Create output folder if it does not exist "
   ]
  },
  {
   "cell_type": "code",
   "execution_count": null,
   "id": "bfa0cf77-40db-4ac9-b2fc-3f0ed442d22b",
   "metadata": {
    "tags": []
   },
   "outputs": [],
   "source": [
    "pos = np.sum(y)\n",
    "total = len(y)\n",
    "neg  = total-pos\n",
    "\n",
    "weight_for_0 = (1 / neg) * (total / 2.0)\n",
    "weight_for_1 = (1 / pos) * (total / 2.0)\n",
    "\n",
    "class_weight = {0: weight_for_0, 1: weight_for_1}\n",
    "\n",
    "kwargs['fit__class_weight'] = class_weight\n",
    "\n",
    "models['NeuralNetwork']=KerasClassifier(**kwargs, reset_last_layer=True)\n"
   ]
  },
  {
   "cell_type": "code",
   "execution_count": null,
   "id": "e240b1b8-cc06-4953-9393-637ece0e034c",
   "metadata": {
    "tags": []
   },
   "outputs": [],
   "source": [
    "models['LGBM'] = LGBMClassifier(n_jobs=-1)\n",
    "\n",
    "for name,clf in models.items():\n",
    "    if name == 'QDA':\n",
    "        lr = LogisticRegression(penalty='l1',solver='saga',class_weight='balanced')\n",
    "        selector = SelectFromModel(lr)\n",
    "    else:\n",
    "        selector = 'passthrough'\n",
    "    \n",
    "    pipe = Pipeline(steps=[\n",
    "    ('imputation',imputer),\n",
    "    ('selector',selector),\n",
    "    ('classifier', clf)])  \n",
    "    print(name)\n",
    "    \n",
    "    if(name == 'NeuralNetwork'):\n",
    "        report = cross_validate(pipe,X_nn,y, cv=cv, scoring=scoring)\n",
    "    else:\n",
    "        report = cross_validate(pipe,X,y, cv=cv, scoring=scoring)\n",
    "    save_report(report,output_folder,name)\n",
    "    \n",
    "del models['LGBM']"
   ]
  }
 ],
 "metadata": {
  "kernelspec": {
   "display_name": "Python [conda env:tf_gpu]",
   "language": "python",
   "name": "conda-env-tf_gpu-py"
  },
  "language_info": {
   "codemirror_mode": {
    "name": "ipython",
    "version": 3
   },
   "file_extension": ".py",
   "mimetype": "text/x-python",
   "name": "python",
   "nbconvert_exporter": "python",
   "pygments_lexer": "ipython3",
   "version": "3.11.6"
  }
 },
 "nbformat": 4,
 "nbformat_minor": 5
}
